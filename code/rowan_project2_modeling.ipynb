{
 "cells": [
  {
   "cell_type": "markdown",
   "id": "be560841-2c30-44e3-9873-dcb4b89f1af3",
   "metadata": {
    "tags": []
   },
   "source": [
    "<div class=\"h1 alert alert\" markdown=\"1\" >\n",
    "\n",
    "# Ames Housing Data & Kaggle Challenge \n",
    "</div>"
   ]
  },
  {
   "cell_type": "markdown",
   "id": "4ba91688-ee57-426d-bf51-c529ce4e8b7f",
   "metadata": {},
   "source": [
    "## Modeling"
   ]
  },
  {
   "cell_type": "markdown",
   "id": "582caea1-87a0-4cde-b4cf-44cfc4423210",
   "metadata": {},
   "source": [
    "<img src='../images/houses9.png'>"
   ]
  },
  {
   "cell_type": "markdown",
   "id": "c4525036-0b81-461d-b418-04950ab169f0",
   "metadata": {},
   "source": [
    "### You are tasked with creating a machine learning model based on the Ames Housing Dataset. This model will predict the price of a property at sale.\n",
    "### The Ames Housing Dataset is contains over 70 columns of different features (of nominal, discrete, and ordinal types) to describe properties in Ames, Iowa that were sold between the years 2006-2010."
   ]
  },
  {
   "cell_type": "markdown",
   "id": "d50dc809-b22e-42c4-a0d3-4a0a3b42d7ef",
   "metadata": {},
   "source": [
    "Predicting the sale value of a home can be difficult for homeowners who are looking to put their home on the market. The intention of this project is to create a model that captures the housing market in Ames, Iowa from 2006-2010, and accurately predicts housing prices based on property features."
   ]
  },
  {
   "cell_type": "markdown",
   "id": "b564e37d-0f38-402f-a1e4-27f74ab60f64",
   "metadata": {},
   "source": [
    " "
   ]
  },
  {
   "cell_type": "markdown",
   "id": "b1aae91a-aab8-4194-877f-aacb7667806b",
   "metadata": {},
   "source": [
    "run me! ↓"
   ]
  },
  {
   "cell_type": "code",
   "execution_count": 1,
   "id": "104c4333-0cb3-400b-9d92-17f9c2951197",
   "metadata": {},
   "outputs": [
    {
     "data": {
      "text/html": [
       "<style>\n",
       "\n",
       "#notebook-container{\n",
       "    box-shadow: none !important;\n",
       "}\n",
       "\n",
       ".container {\n",
       "    width: 80% !important;\n",
       "}\n",
       "\n",
       ".notebook_app {\n",
       "    background: #fff !important;\n",
       "}\n",
       "\n",
       "body > #header {\n",
       "    background:  #f57b00;\n",
       "}\n",
       "\n",
       ".navbar-default {\n",
       "    background: none;\n",
       "    border: none;\n",
       "}\n",
       "\n",
       ".navbar-default .navbar-nav > li > a, #kernel_indicator {\n",
       "    color: rgba(255, 255, 255, 0.25);\n",
       "    border-bottom: 2px solid #f57b00;\n",
       "    transition: all 0.25s;\n",
       "}\n",
       "\n",
       ".navbar-default .navbar-nav > li > a:hover, #kernel_indicator:hover {\n",
       "    border-bottom: 2px solid #fff;\n",
       "    color: rgba(255, 255, 255, 1);\n",
       "}\n",
       "\n",
       "div.input_area {\n",
       "    border: none;\n",
       "    border-radius: 0;\n",
       "    background: #f7f7f7;\n",
       "    line-height: 1.5em;\n",
       "    margin: 0.5em 0;\n",
       "    padding: 0;\n",
       "}\n",
       "\n",
       "div.cell {\n",
       "    transition: all 0.25s;\n",
       "    border: none;\n",
       "    position: relative;\n",
       "    top: 0;\n",
       "}\n",
       "\n",
       "div.cell.selected, div.cell.selected.jupyter-soft-selected {\n",
       "    border: none;\n",
       "    background: transparent;\n",
       "    box-shadow: 0 6px 18px #aaa;\n",
       "    z-index: 10;\n",
       "    top: -10px;\n",
       "}\n",
       "\n",
       "\n",
       "div#pager {\n",
       "    opacity: 0.85;\n",
       "    z-index: 9999;\n",
       "}\n",
       "\n",
       ".navbar-default .navbar-nav > .open > a, .navbar-default .navbar-nav > .open > a:hover, .navbar-default .navbar-nav > .open > a:focus {\n",
       "    color: #fff;\n",
       "    background-color: transparent;\n",
       "    border-bottom: 2px solid #fff;\n",
       "}\n",
       "\n",
       ".dropdown-menu {\n",
       "    z-index: 999999 !important;\n",
       "    background-color: #f57b00;\n",
       "    opacity: 0.95;\n",
       "}\n",
       "\n",
       ".dropdown-menu > li > a {\n",
       "    color: #fff;\n",
       "}\n",
       "\n",
       ".dropdown-menu > .disabled > a, .dropdown-menu > .disabled > a:hover, .dropdown-menu > .disabled > a:focus {\n",
       "    color: rgba(255, 255, 255, 0.25);\n",
       "}\n",
       "\n",
       ".navbar-nav > li > .dropdown-menu {\n",
       "    border: none;\n",
       "    box-shadow: none;\n",
       "}\n",
       "\n",
       "div.output_wrapper {\n",
       "    background: #eee;\n",
       "}\n",
       "\n",
       "div.cell.unselected div.output_area{\n",
       "    margin-top: 12em;\n",
       "    box-shadow: inset 0 0 25px #aaa;\n",
       "    padding: 1em 0;\n",
       "    overflow-x: auto;\n",
       "    transition: all 0.25s;\n",
       "}\n",
       "\n",
       "div.cell.selected .output_area {\n",
       "    margin-top: 12em;\n",
       "    box-shadow: inset 0 0 5px #aaa;\n",
       "    padding: 0.5em 0;\n",
       "    overflow-x: auto;\n",
       "}\n",
       "\n",
       "div.cell.selected .div.output_scroll {\n",
       "    box-shadow: none;\n",
       "}\n",
       "\n",
       "div.output_wrapper {\n",
       "    margin: 0 0 1em;\n",
       "    transition: all 0.25s;\n",
       "}\n",
       "\n",
       "div.cell.selected .output_wrapper {\n",
       "    margin-bottom: 20em;\n",
       "}\n",
       "\n",
       "\n",
       ".dataframe {\n",
       "    background: #fff;\n",
       "    box-shadow: 0px 1px 2px #bbb;\n",
       "}\n",
       "\n",
       ".dataframe thead th, .dataframe tbody td {\n",
       "    text-align: right;\n",
       "    padding: 1em;\n",
       "}\n",
       "\n",
       ".output, div.output_scroll {\n",
       "    box-shadow: none;\n",
       "} \n",
       "\n",
       "\n",
       ".rendered_html pre code {\n",
       "    background: #f4f4f4;\n",
       "    border: 1px solid #ddd;\n",
       "    border-left: 3px solid #2a7bbd;\n",
       "    color: #444;\n",
       "    page-break-inside: avoid;\n",
       "    font-family: monospace;\n",
       "    font-size: 15px;\n",
       "    line-height: 1.6;\n",
       "    margin-bottom: 1.6em;\n",
       "    max-width: 100%;\n",
       "    overflow: auto;\n",
       "    padding: 1em 1.5em;\n",
       "    display: block;\n",
       "    word-wrap: break-word;\n",
       "}\n",
       "\n",
       "h1, .h1 {\n",
       "    font-size: 33px;\n",
       "    font-family: \"Trebuchet MS\";\n",
       "    font-size: 2.5em !important;\n",
       "    color: #2a7bbd;\n",
       "\n",
       "}\n",
       "\n",
       "h2, .h2 {\n",
       "    font-size: 20px;\n",
       "    font-family: \"Trebuchet MS\";\n",
       "    font-size: 2.5em !important;\n",
       "    color: #2a7bbd;\n",
       "    margin-top: 50em;\n",
       "\n",
       "}\n",
       "\n",
       "h3, .h3 {\n",
       "    font-size: 11px;\n",
       "    font-size: 1.5em !important;\n",
       "    color: black;\n",
       "    margin-top: 50em;\n",
       "}\n",
       "\n",
       "h4, .h4 {\n",
       "    font-size: 9px;\n",
       "    font-size: 1.2em !important;\n",
       "    color: black;\n",
       "    margin-top: 50em;\n",
       "}\n",
       "\n",
       "</style>"
      ],
      "text/plain": [
       "<IPython.core.display.HTML object>"
      ]
     },
     "execution_count": 1,
     "metadata": {},
     "output_type": "execute_result"
    }
   ],
   "source": [
    "# Styling notebook\n",
    "from IPython.core.display import HTML\n",
    "def css_styling():\n",
    "    styles = open(\"../styles/custom.css\", \"r\").read()\n",
    "    return HTML(styles)\n",
    "css_styling()"
   ]
  },
  {
   "cell_type": "markdown",
   "id": "2a9dac59-703a-45fd-b981-f9f6f3391af8",
   "metadata": {},
   "source": [
    "## Preprocessing"
   ]
  },
  {
   "cell_type": "markdown",
   "id": "e1c5cf46-1ad9-4ae7-827f-cf986a583059",
   "metadata": {},
   "source": [
    "### Imports"
   ]
  },
  {
   "cell_type": "code",
   "execution_count": 2,
   "id": "b8fb8048-7e79-4ae8-8a4c-bc49f0afc96d",
   "metadata": {},
   "outputs": [],
   "source": [
    "# Imports\n",
    "import matplotlib.pyplot as plt\n",
    "import numpy as np\n",
    "import pandas as pd\n",
    "import seaborn as sns\n",
    "\n",
    "from sklearn.compose import make_column_transformer\n",
    "from sklearn.impute import SimpleImputer\n",
    "from sklearn.linear_model import LinearRegression, Lasso, Ridge, ElasticNet, ElasticNetCV\n",
    "from sklearn.model_selection import train_test_split, cross_val_score, GridSearchCV\n",
    "from sklearn.pipeline import make_pipeline\n",
    "from sklearn.preprocessing import OneHotEncoder, StandardScaler, PolynomialFeatures"
   ]
  },
  {
   "cell_type": "markdown",
   "id": "110ccb14-2a10-4bd3-8213-f10f720cc725",
   "metadata": {},
   "source": [
    " "
   ]
  },
  {
   "cell_type": "code",
   "execution_count": 3,
   "id": "4ad19362-6442-44f6-8188-b120c9efe521",
   "metadata": {},
   "outputs": [],
   "source": [
    "pd.set_option('display.max_columns', None)\n",
    "pd.set_option('display.max_rows', None)\n",
    "\n",
    "from warnings import simplefilter\n",
    "from sklearn.exceptions import ConvergenceWarning\n",
    "simplefilter(\"ignore\", category=ConvergenceWarning)"
   ]
  },
  {
   "cell_type": "markdown",
   "id": "9a632e1d-81b1-46c1-b1d2-98e637e39008",
   "metadata": {},
   "source": [
    " "
   ]
  },
  {
   "cell_type": "code",
   "execution_count": 4,
   "id": "66356a5a-9453-4273-a0ab-d0742c2247bd",
   "metadata": {},
   "outputs": [],
   "source": [
    "# Load in data\n",
    "train = pd.read_csv('../datasets/train2.csv')\n",
    "test = pd.read_csv('../datasets/test2.csv')"
   ]
  },
  {
   "cell_type": "markdown",
   "id": "99f77996-fc0d-4dc9-bd91-e4d007529279",
   "metadata": {},
   "source": [
    " "
   ]
  },
  {
   "cell_type": "code",
   "execution_count": 6,
   "id": "35f15cb4-e368-4520-8394-bb6ddad4dfb3",
   "metadata": {},
   "outputs": [],
   "source": [
    "train = train.drop(columns='Unnamed: 0')\n",
    "test = test.drop(columns='Unnamed: 0')"
   ]
  },
  {
   "cell_type": "markdown",
   "id": "e6698c59-a85b-4483-b53f-227d7c7eb0c2",
   "metadata": {},
   "source": [
    " "
   ]
  },
  {
   "cell_type": "markdown",
   "id": "76c7ba32-51e8-4b7d-961b-de9fe09990a4",
   "metadata": {},
   "source": [
    " "
   ]
  },
  {
   "cell_type": "markdown",
   "id": "b55abcb3-f05f-4365-a55c-d75317e9daf3",
   "metadata": {},
   "source": [
    "#### make_column_transformer"
   ]
  },
  {
   "cell_type": "markdown",
   "id": "848ef3a9-f85c-401b-9e23-6d5cce4f4721",
   "metadata": {},
   "source": [
    "I OneHotEncoded my remaining categorical features,  and made a list of each \"category\" of column names so I can add and remove them as features easily later on."
   ]
  },
  {
   "cell_type": "markdown",
   "id": "9872c5ec-a507-47e6-b645-3a55013e6b3b",
   "metadata": {},
   "source": [
    " "
   ]
  },
  {
   "cell_type": "code",
   "execution_count": 43,
   "id": "531d1734-d81e-42af-bdb2-7f83da104b89",
   "metadata": {},
   "outputs": [],
   "source": [
    "ohe = OneHotEncoder(drop='first', handle_unknown='ignore', sparse=False)"
   ]
  },
  {
   "cell_type": "markdown",
   "id": "3ad93fc5-7bd3-4c6d-8ee2-6c3f1aeaad62",
   "metadata": {},
   "source": [
    " "
   ]
  },
  {
   "cell_type": "code",
   "execution_count": 44,
   "id": "04b311b9-9921-4857-ae94-e39cd36029ce",
   "metadata": {},
   "outputs": [
    {
     "name": "stderr",
     "output_type": "stream",
     "text": [
      "/usr/local/Cellar/jupyterlab/3.3.0/libexec/lib/python3.9/site-packages/sklearn/preprocessing/_encoders.py:170: UserWarning: Found unknown categories in columns [2, 3, 7] during transform. These unknown categories will be encoded as all zeros\n",
      "  warnings.warn(\n"
     ]
    },
    {
     "data": {
      "text/plain": [
       "Index(['neighborhood_Blueste', 'neighborhood_BrDale', 'neighborhood_BrkSide',\n",
       "       'neighborhood_ClearCr', 'neighborhood_CollgCr', 'neighborhood_Crawfor',\n",
       "       'neighborhood_Edwards', 'neighborhood_Gilbert', 'neighborhood_Greens',\n",
       "       'neighborhood_GrnHill', 'neighborhood_IDOTRR', 'neighborhood_Landmrk',\n",
       "       'neighborhood_MeadowV', 'neighborhood_Mitchel', 'neighborhood_NAmes',\n",
       "       'neighborhood_NPkVill', 'neighborhood_NWAmes', 'neighborhood_NoRidge',\n",
       "       'neighborhood_NridgHt', 'neighborhood_OldTown', 'neighborhood_SWISU',\n",
       "       'neighborhood_Sawyer', 'neighborhood_SawyerW', 'neighborhood_Somerst',\n",
       "       'neighborhood_StoneBr', 'neighborhood_Timber', 'neighborhood_Veenker',\n",
       "       'utilities_NoSeWa', 'utilities_NoSewr', 'electrical_FuseF',\n",
       "       'electrical_FuseP', 'electrical_Mix', 'electrical_SBrkr',\n",
       "       'heating_GasW', 'heating_Grav', 'heating_OthW', 'heating_Wall',\n",
       "       'house_style_1.5Unf', 'house_style_1Story', 'house_style_2.5Fin',\n",
       "       'house_style_2.5Unf', 'house_style_2Story', 'house_style_SFoyer',\n",
       "       'house_style_SLvl', 'bldg_type_2fmCon', 'bldg_type_Duplex',\n",
       "       'bldg_type_Twnhs', 'bldg_type_TwnhsE', 'foundation_CBlock',\n",
       "       'foundation_PConc', 'foundation_Slab', 'foundation_Stone',\n",
       "       'foundation_Wood', 'mas_vnr_type_BrkCmn', 'mas_vnr_type_BrkFace',\n",
       "       'mas_vnr_type_None', 'mas_vnr_type_Stone'],\n",
       "      dtype='object')"
      ]
     },
     "execution_count": 44,
     "metadata": {},
     "output_type": "execute_result"
    }
   ],
   "source": [
    "cats1 = ['ms_zoning', 'ms_subclass', 'sale_type']\n",
    "cats2 = ['neighborhood']\n",
    "cats3 = ['utilities',  'electrical', 'heating']\n",
    "cats4 = ['house_style', 'bldg_type', 'foundation', 'mas_vnr_type']\n",
    "cats5 = ['roof_style', 'roof_matl', 'mas_vnr_type','garage_type']\n",
    "cats6 = ['street', 'alley', 'misc_feature', 'lot_config', 'land_contour']\n",
    "ohe_cats = cats2 + cats3 + cats4 # + cats5 + cats6 + cats1\n",
    "\n",
    "smart_encoder = make_column_transformer(\n",
    "    (ohe, ohe_cats), #can add more\n",
    "    remainder='drop'      \n",
    ")\n",
    "\n",
    "train_ohe = smart_encoder.fit(train)\n",
    "train_ohe = smart_encoder.transform(train)\n",
    "train_ohe = pd.DataFrame(train_ohe, columns=smart_encoder.get_feature_names_out())\n",
    "train_ohe.columns = [x.removeprefix('onehotencoder__') for x in train_ohe.columns]\n",
    "\n",
    "test_ohe = smart_encoder.transform(test)\n",
    "test_ohe = pd.DataFrame(test_ohe, columns=smart_encoder.get_feature_names_out())\n",
    "test_ohe.columns = [x.removeprefix('onehotencoder__') for x in test_ohe.columns]\n",
    "\n",
    "test_ohe.columns"
   ]
  },
  {
   "cell_type": "markdown",
   "id": "01de3eb3-862a-4a96-8d41-65d82ebb982a",
   "metadata": {},
   "source": [
    " "
   ]
  },
  {
   "cell_type": "markdown",
   "id": "054a9bbd-aad7-4164-ab6e-87aa1f70b968",
   "metadata": {},
   "source": [
    " "
   ]
  },
  {
   "cell_type": "markdown",
   "id": "a6552bc1-04cc-4248-b5c5-434de881a699",
   "metadata": {},
   "source": [
    " "
   ]
  },
  {
   "cell_type": "code",
   "execution_count": 45,
   "id": "cc32e629-17b4-4dce-a12a-5c5af40f400a",
   "metadata": {
    "tags": []
   },
   "outputs": [],
   "source": [
    "#Make OHE lists\n",
    "neighborhoods = [i for i in train_ohe.iloc[:, :27].columns]\n",
    "ut_elec_heat = [i for i in train_ohe.iloc[:, [28,29,30,31,32,33,34,35,36]].columns]\n",
    "housestyle = [i for i in train_ohe.iloc[:, [37, 38, 39, 40, 41,42, 43]].columns]\n",
    "bldgtypes = [i for i in train_ohe.iloc[:, [ 44, 45, 46, 47]].columns]\n",
    "foundation = [i for i in train_ohe.iloc[:, [48, 49,51, 52]].columns]\n",
    "mas_vnr_type = [i for i in train_ohe.iloc[:, [53,54,55,56]].columns]\n",
    "\n",
    "all_ohe=[i for i in train_ohe.columns]"
   ]
  },
  {
   "cell_type": "markdown",
   "id": "9b486899-5b6a-4656-a1fd-ec7704b7252c",
   "metadata": {},
   "source": [
    " "
   ]
  },
  {
   "cell_type": "markdown",
   "id": "1efa4e1d-929a-4831-8e8a-1df15664e948",
   "metadata": {},
   "source": [
    " Then I merged the dataframes of OneHotEncoded features onto my test and train datasets."
   ]
  },
  {
   "cell_type": "code",
   "execution_count": 46,
   "id": "3a28a7b4-6863-4286-84bb-1aa926e204bb",
   "metadata": {},
   "outputs": [
    {
     "name": "stdout",
     "output_type": "stream",
     "text": [
      "<class 'pandas.core.frame.DataFrame'>\n",
      "RangeIndex: 878 entries, 0 to 877\n",
      "Columns: 170 entries, id to mas_vnr_type_Stone\n",
      "dtypes: float64(79), int64(72), object(19)\n",
      "memory usage: 1.1+ MB\n"
     ]
    }
   ],
   "source": [
    "# Merge #Don't run me twice\n",
    "train_ohe = pd.merge(left=train, right=train_ohe, left_index=True, right_index=True)\n",
    "train_ohe.head(2)\n",
    "\n",
    "test_ohe = pd.merge(left=test, right=test_ohe, left_index=True, right_index=True)\n",
    "test_ohe.info()"
   ]
  },
  {
   "cell_type": "markdown",
   "id": "9d82e15f-97f3-44e1-b800-c8b5c526d3cc",
   "metadata": {},
   "source": [
    " "
   ]
  },
  {
   "cell_type": "code",
   "execution_count": 47,
   "id": "36530825-b43b-472e-a4e3-0c080ca9b8c2",
   "metadata": {},
   "outputs": [],
   "source": [
    "# Drop columns : ID, PID, Neighborhood\n",
    "train_ohe=train_ohe.drop(columns = ohe_cats_names)\n",
    "train_ohe.head(2)\n",
    "\n",
    "test_ohe=test_ohe.drop(columns = ohe_cats_names)"
   ]
  },
  {
   "cell_type": "markdown",
   "id": "41f9bf88-7cea-4db4-8d8f-a02f3d121e50",
   "metadata": {},
   "source": [
    " "
   ]
  },
  {
   "cell_type": "code",
   "execution_count": 48,
   "id": "67b55c90-58b6-45e3-80b2-d770d94d8206",
   "metadata": {},
   "outputs": [
    {
     "data": {
      "text/html": [
       "<div>\n",
       "<style scoped>\n",
       "    .dataframe tbody tr th:only-of-type {\n",
       "        vertical-align: middle;\n",
       "    }\n",
       "\n",
       "    .dataframe tbody tr th {\n",
       "        vertical-align: top;\n",
       "    }\n",
       "\n",
       "    .dataframe thead th {\n",
       "        text-align: right;\n",
       "    }\n",
       "</style>\n",
       "<table border=\"1\" class=\"dataframe\">\n",
       "  <thead>\n",
       "    <tr style=\"text-align: right;\">\n",
       "      <th></th>\n",
       "      <th>id</th>\n",
       "      <th>pid</th>\n",
       "      <th>lot_frontage</th>\n",
       "      <th>lot_area</th>\n",
       "      <th>lot_shape</th>\n",
       "      <th>land_slope</th>\n",
       "      <th>overall_qual</th>\n",
       "      <th>overall_cond</th>\n",
       "      <th>year_built</th>\n",
       "      <th>year_remod/add</th>\n",
       "      <th>mas_vnr_area</th>\n",
       "      <th>exter_qual</th>\n",
       "      <th>exter_cond</th>\n",
       "      <th>bsmt_qual</th>\n",
       "      <th>bsmt_cond</th>\n",
       "      <th>bsmt_exposure</th>\n",
       "      <th>bsmt_unf_sf</th>\n",
       "      <th>total_bsmt_sf</th>\n",
       "      <th>heating_qc</th>\n",
       "      <th>central_air</th>\n",
       "      <th>1st_flr_sf</th>\n",
       "      <th>2nd_flr_sf</th>\n",
       "      <th>low_qual_fin_sf</th>\n",
       "      <th>gr_liv_area</th>\n",
       "      <th>bsmt_full_bath</th>\n",
       "      <th>bsmt_half_bath</th>\n",
       "      <th>full_bath</th>\n",
       "      <th>half_bath</th>\n",
       "      <th>bedroom_abvgr</th>\n",
       "      <th>kitchen_abvgr</th>\n",
       "      <th>kitchen_qual</th>\n",
       "      <th>totrms_abvgrd</th>\n",
       "      <th>functional</th>\n",
       "      <th>fireplaces</th>\n",
       "      <th>fireplace_qu</th>\n",
       "      <th>garage_yr_blt</th>\n",
       "      <th>garage_finish</th>\n",
       "      <th>garage_cars</th>\n",
       "      <th>garage_area</th>\n",
       "      <th>garage_qual</th>\n",
       "      <th>garage_cond</th>\n",
       "      <th>paved_drive</th>\n",
       "      <th>wood_deck_sf</th>\n",
       "      <th>open_porch_sf</th>\n",
       "      <th>enclosed_porch</th>\n",
       "      <th>3ssn_porch</th>\n",
       "      <th>screen_porch</th>\n",
       "      <th>pool_area</th>\n",
       "      <th>pool_qc</th>\n",
       "      <th>fence</th>\n",
       "      <th>misc_val</th>\n",
       "      <th>mo_sold</th>\n",
       "      <th>yr_sold</th>\n",
       "      <th>saleprice</th>\n",
       "      <th>frontage_pct</th>\n",
       "      <th>total_porch_sf</th>\n",
       "      <th>total_sf</th>\n",
       "      <th>has_pool</th>\n",
       "      <th>has_garage</th>\n",
       "      <th>has_basement</th>\n",
       "      <th>has_porch</th>\n",
       "      <th>Artery</th>\n",
       "      <th>Feedr</th>\n",
       "      <th>PosA</th>\n",
       "      <th>PosN</th>\n",
       "      <th>RRAe</th>\n",
       "      <th>RRAn</th>\n",
       "      <th>RRNe</th>\n",
       "      <th>RRNn</th>\n",
       "      <th>AsphShn</th>\n",
       "      <th>Brk Cmn</th>\n",
       "      <th>BrkComm</th>\n",
       "      <th>BrkFace</th>\n",
       "      <th>CBlock</th>\n",
       "      <th>CemntBd</th>\n",
       "      <th>CmentBd</th>\n",
       "      <th>HdBoard</th>\n",
       "      <th>ImStucc</th>\n",
       "      <th>MetalSd</th>\n",
       "      <th>Plywood</th>\n",
       "      <th>Stone</th>\n",
       "      <th>Stucco</th>\n",
       "      <th>VinylSd</th>\n",
       "      <th>Wd Sdng</th>\n",
       "      <th>Wd Shng</th>\n",
       "      <th>WdShing</th>\n",
       "      <th>bsmt_sf_ALQ</th>\n",
       "      <th>bsmt_sf_BLQ</th>\n",
       "      <th>bsmt_sf_GLQ</th>\n",
       "      <th>bsmt_sf_LwQ</th>\n",
       "      <th>bsmt_sf_NA</th>\n",
       "      <th>bsmt_sf_Rec</th>\n",
       "      <th>bsmt_sf_Unf</th>\n",
       "      <th>total_bath</th>\n",
       "      <th>neighborhood_Blueste</th>\n",
       "      <th>neighborhood_BrDale</th>\n",
       "      <th>neighborhood_BrkSide</th>\n",
       "      <th>neighborhood_ClearCr</th>\n",
       "      <th>neighborhood_CollgCr</th>\n",
       "      <th>neighborhood_Crawfor</th>\n",
       "      <th>neighborhood_Edwards</th>\n",
       "      <th>neighborhood_Gilbert</th>\n",
       "      <th>neighborhood_Greens</th>\n",
       "      <th>neighborhood_GrnHill</th>\n",
       "      <th>neighborhood_IDOTRR</th>\n",
       "      <th>neighborhood_Landmrk</th>\n",
       "      <th>neighborhood_MeadowV</th>\n",
       "      <th>neighborhood_Mitchel</th>\n",
       "      <th>neighborhood_NAmes</th>\n",
       "      <th>neighborhood_NPkVill</th>\n",
       "      <th>neighborhood_NWAmes</th>\n",
       "      <th>neighborhood_NoRidge</th>\n",
       "      <th>neighborhood_NridgHt</th>\n",
       "      <th>neighborhood_OldTown</th>\n",
       "      <th>neighborhood_SWISU</th>\n",
       "      <th>neighborhood_Sawyer</th>\n",
       "      <th>neighborhood_SawyerW</th>\n",
       "      <th>neighborhood_Somerst</th>\n",
       "      <th>neighborhood_StoneBr</th>\n",
       "      <th>neighborhood_Timber</th>\n",
       "      <th>neighborhood_Veenker</th>\n",
       "      <th>utilities_NoSeWa</th>\n",
       "      <th>utilities_NoSewr</th>\n",
       "      <th>electrical_FuseF</th>\n",
       "      <th>electrical_FuseP</th>\n",
       "      <th>electrical_Mix</th>\n",
       "      <th>electrical_SBrkr</th>\n",
       "      <th>heating_GasW</th>\n",
       "      <th>heating_Grav</th>\n",
       "      <th>heating_OthW</th>\n",
       "      <th>heating_Wall</th>\n",
       "      <th>house_style_1.5Unf</th>\n",
       "      <th>house_style_1Story</th>\n",
       "      <th>house_style_2.5Fin</th>\n",
       "      <th>house_style_2.5Unf</th>\n",
       "      <th>house_style_2Story</th>\n",
       "      <th>house_style_SFoyer</th>\n",
       "      <th>house_style_SLvl</th>\n",
       "      <th>bldg_type_2fmCon</th>\n",
       "      <th>bldg_type_Duplex</th>\n",
       "      <th>bldg_type_Twnhs</th>\n",
       "      <th>bldg_type_TwnhsE</th>\n",
       "      <th>foundation_CBlock</th>\n",
       "      <th>foundation_PConc</th>\n",
       "      <th>foundation_Slab</th>\n",
       "      <th>foundation_Stone</th>\n",
       "      <th>foundation_Wood</th>\n",
       "      <th>mas_vnr_type_BrkCmn</th>\n",
       "      <th>mas_vnr_type_BrkFace</th>\n",
       "      <th>mas_vnr_type_None</th>\n",
       "      <th>mas_vnr_type_Stone</th>\n",
       "    </tr>\n",
       "  </thead>\n",
       "  <tbody>\n",
       "    <tr>\n",
       "      <th>0</th>\n",
       "      <td>109</td>\n",
       "      <td>533352170</td>\n",
       "      <td>100.972204</td>\n",
       "      <td>13517</td>\n",
       "      <td>2</td>\n",
       "      <td>2</td>\n",
       "      <td>6</td>\n",
       "      <td>8</td>\n",
       "      <td>1976</td>\n",
       "      <td>2005</td>\n",
       "      <td>289.0</td>\n",
       "      <td>4</td>\n",
       "      <td>3</td>\n",
       "      <td>3.0</td>\n",
       "      <td>3.0</td>\n",
       "      <td>1.0</td>\n",
       "      <td>192.0</td>\n",
       "      <td>725.0</td>\n",
       "      <td>5</td>\n",
       "      <td>Y</td>\n",
       "      <td>725</td>\n",
       "      <td>754</td>\n",
       "      <td>0</td>\n",
       "      <td>1479</td>\n",
       "      <td>0.0</td>\n",
       "      <td>0.0</td>\n",
       "      <td>2</td>\n",
       "      <td>1</td>\n",
       "      <td>3</td>\n",
       "      <td>1</td>\n",
       "      <td>4</td>\n",
       "      <td>6</td>\n",
       "      <td>8</td>\n",
       "      <td>0</td>\n",
       "      <td>0</td>\n",
       "      <td>1976.0</td>\n",
       "      <td>2.0</td>\n",
       "      <td>2.0</td>\n",
       "      <td>475.0</td>\n",
       "      <td>3</td>\n",
       "      <td>3</td>\n",
       "      <td>2</td>\n",
       "      <td>0</td>\n",
       "      <td>44</td>\n",
       "      <td>0</td>\n",
       "      <td>0</td>\n",
       "      <td>0</td>\n",
       "      <td>0</td>\n",
       "      <td>0</td>\n",
       "      <td>0</td>\n",
       "      <td>0</td>\n",
       "      <td>3</td>\n",
       "      <td>2010</td>\n",
       "      <td>130500</td>\n",
       "      <td>0.00747</td>\n",
       "      <td>44</td>\n",
       "      <td>2248.0</td>\n",
       "      <td>0</td>\n",
       "      <td>1</td>\n",
       "      <td>1</td>\n",
       "      <td>1</td>\n",
       "      <td>0</td>\n",
       "      <td>0</td>\n",
       "      <td>0</td>\n",
       "      <td>0</td>\n",
       "      <td>1</td>\n",
       "      <td>0</td>\n",
       "      <td>0.0</td>\n",
       "      <td>0</td>\n",
       "      <td>0</td>\n",
       "      <td>0.0</td>\n",
       "      <td>0.0</td>\n",
       "      <td>0</td>\n",
       "      <td>0</td>\n",
       "      <td>0.0</td>\n",
       "      <td>0.0</td>\n",
       "      <td>1</td>\n",
       "      <td>0</td>\n",
       "      <td>0</td>\n",
       "      <td>1</td>\n",
       "      <td>0</td>\n",
       "      <td>0</td>\n",
       "      <td>0</td>\n",
       "      <td>0</td>\n",
       "      <td>0.0</td>\n",
       "      <td>0.0</td>\n",
       "      <td>0.0</td>\n",
       "      <td>0.0</td>\n",
       "      <td>533.0</td>\n",
       "      <td>0.0</td>\n",
       "      <td>0.0</td>\n",
       "      <td>0.0</td>\n",
       "      <td>0.0</td>\n",
       "      <td>2.5</td>\n",
       "      <td>0.0</td>\n",
       "      <td>0.0</td>\n",
       "      <td>0.0</td>\n",
       "      <td>0.0</td>\n",
       "      <td>0.0</td>\n",
       "      <td>0.0</td>\n",
       "      <td>0.0</td>\n",
       "      <td>0.0</td>\n",
       "      <td>0.0</td>\n",
       "      <td>0.0</td>\n",
       "      <td>0.0</td>\n",
       "      <td>0.0</td>\n",
       "      <td>0.0</td>\n",
       "      <td>0.0</td>\n",
       "      <td>0.0</td>\n",
       "      <td>0.0</td>\n",
       "      <td>0.0</td>\n",
       "      <td>0.0</td>\n",
       "      <td>0.0</td>\n",
       "      <td>0.0</td>\n",
       "      <td>0.0</td>\n",
       "      <td>1.0</td>\n",
       "      <td>0.0</td>\n",
       "      <td>0.0</td>\n",
       "      <td>0.0</td>\n",
       "      <td>0.0</td>\n",
       "      <td>0.0</td>\n",
       "      <td>0.0</td>\n",
       "      <td>0.0</td>\n",
       "      <td>0.0</td>\n",
       "      <td>0.0</td>\n",
       "      <td>0.0</td>\n",
       "      <td>1.0</td>\n",
       "      <td>0.0</td>\n",
       "      <td>0.0</td>\n",
       "      <td>0.0</td>\n",
       "      <td>0.0</td>\n",
       "      <td>0.0</td>\n",
       "      <td>0.0</td>\n",
       "      <td>0.0</td>\n",
       "      <td>0.0</td>\n",
       "      <td>1.0</td>\n",
       "      <td>0.0</td>\n",
       "      <td>0.0</td>\n",
       "      <td>0.0</td>\n",
       "      <td>0.0</td>\n",
       "      <td>0.0</td>\n",
       "      <td>0.0</td>\n",
       "      <td>1.0</td>\n",
       "      <td>0.0</td>\n",
       "      <td>0.0</td>\n",
       "      <td>0.0</td>\n",
       "      <td>0.0</td>\n",
       "      <td>0.0</td>\n",
       "      <td>1.0</td>\n",
       "      <td>0.0</td>\n",
       "      <td>0.0</td>\n",
       "    </tr>\n",
       "    <tr>\n",
       "      <th>1</th>\n",
       "      <td>770</td>\n",
       "      <td>905101490</td>\n",
       "      <td>80.000000</td>\n",
       "      <td>8816</td>\n",
       "      <td>3</td>\n",
       "      <td>2</td>\n",
       "      <td>5</td>\n",
       "      <td>6</td>\n",
       "      <td>1963</td>\n",
       "      <td>1963</td>\n",
       "      <td>0.0</td>\n",
       "      <td>3</td>\n",
       "      <td>3</td>\n",
       "      <td>3.0</td>\n",
       "      <td>3.0</td>\n",
       "      <td>1.0</td>\n",
       "      <td>470.0</td>\n",
       "      <td>1121.0</td>\n",
       "      <td>3</td>\n",
       "      <td>Y</td>\n",
       "      <td>1121</td>\n",
       "      <td>0</td>\n",
       "      <td>0</td>\n",
       "      <td>1121</td>\n",
       "      <td>1.0</td>\n",
       "      <td>0.0</td>\n",
       "      <td>1</td>\n",
       "      <td>0</td>\n",
       "      <td>3</td>\n",
       "      <td>1</td>\n",
       "      <td>3</td>\n",
       "      <td>5</td>\n",
       "      <td>8</td>\n",
       "      <td>0</td>\n",
       "      <td>0</td>\n",
       "      <td>1963.0</td>\n",
       "      <td>1.0</td>\n",
       "      <td>2.0</td>\n",
       "      <td>480.0</td>\n",
       "      <td>3</td>\n",
       "      <td>3</td>\n",
       "      <td>2</td>\n",
       "      <td>0</td>\n",
       "      <td>80</td>\n",
       "      <td>0</td>\n",
       "      <td>0</td>\n",
       "      <td>0</td>\n",
       "      <td>0</td>\n",
       "      <td>0</td>\n",
       "      <td>3</td>\n",
       "      <td>0</td>\n",
       "      <td>6</td>\n",
       "      <td>2009</td>\n",
       "      <td>139000</td>\n",
       "      <td>0.00747</td>\n",
       "      <td>80</td>\n",
       "      <td>2322.0</td>\n",
       "      <td>0</td>\n",
       "      <td>1</td>\n",
       "      <td>1</td>\n",
       "      <td>1</td>\n",
       "      <td>0</td>\n",
       "      <td>1</td>\n",
       "      <td>0</td>\n",
       "      <td>0</td>\n",
       "      <td>0</td>\n",
       "      <td>0</td>\n",
       "      <td>0.0</td>\n",
       "      <td>0</td>\n",
       "      <td>0</td>\n",
       "      <td>0.0</td>\n",
       "      <td>0.0</td>\n",
       "      <td>0</td>\n",
       "      <td>0</td>\n",
       "      <td>0.0</td>\n",
       "      <td>0.0</td>\n",
       "      <td>0</td>\n",
       "      <td>0</td>\n",
       "      <td>0</td>\n",
       "      <td>0</td>\n",
       "      <td>0</td>\n",
       "      <td>0</td>\n",
       "      <td>2</td>\n",
       "      <td>0</td>\n",
       "      <td>0.0</td>\n",
       "      <td>0.0</td>\n",
       "      <td>0.0</td>\n",
       "      <td>0.0</td>\n",
       "      <td>0.0</td>\n",
       "      <td>0.0</td>\n",
       "      <td>0.0</td>\n",
       "      <td>651.0</td>\n",
       "      <td>0.0</td>\n",
       "      <td>1.0</td>\n",
       "      <td>0.0</td>\n",
       "      <td>0.0</td>\n",
       "      <td>0.0</td>\n",
       "      <td>0.0</td>\n",
       "      <td>0.0</td>\n",
       "      <td>0.0</td>\n",
       "      <td>0.0</td>\n",
       "      <td>0.0</td>\n",
       "      <td>0.0</td>\n",
       "      <td>0.0</td>\n",
       "      <td>0.0</td>\n",
       "      <td>0.0</td>\n",
       "      <td>0.0</td>\n",
       "      <td>0.0</td>\n",
       "      <td>0.0</td>\n",
       "      <td>0.0</td>\n",
       "      <td>0.0</td>\n",
       "      <td>0.0</td>\n",
       "      <td>0.0</td>\n",
       "      <td>0.0</td>\n",
       "      <td>0.0</td>\n",
       "      <td>1.0</td>\n",
       "      <td>0.0</td>\n",
       "      <td>0.0</td>\n",
       "      <td>0.0</td>\n",
       "      <td>0.0</td>\n",
       "      <td>0.0</td>\n",
       "      <td>0.0</td>\n",
       "      <td>0.0</td>\n",
       "      <td>0.0</td>\n",
       "      <td>0.0</td>\n",
       "      <td>0.0</td>\n",
       "      <td>1.0</td>\n",
       "      <td>0.0</td>\n",
       "      <td>0.0</td>\n",
       "      <td>0.0</td>\n",
       "      <td>0.0</td>\n",
       "      <td>0.0</td>\n",
       "      <td>1.0</td>\n",
       "      <td>0.0</td>\n",
       "      <td>0.0</td>\n",
       "      <td>0.0</td>\n",
       "      <td>0.0</td>\n",
       "      <td>0.0</td>\n",
       "      <td>0.0</td>\n",
       "      <td>0.0</td>\n",
       "      <td>0.0</td>\n",
       "      <td>0.0</td>\n",
       "      <td>0.0</td>\n",
       "      <td>1.0</td>\n",
       "      <td>0.0</td>\n",
       "      <td>0.0</td>\n",
       "      <td>0.0</td>\n",
       "      <td>0.0</td>\n",
       "      <td>0.0</td>\n",
       "      <td>1.0</td>\n",
       "      <td>0.0</td>\n",
       "    </tr>\n",
       "    <tr>\n",
       "      <th>2</th>\n",
       "      <td>2063</td>\n",
       "      <td>905107140</td>\n",
       "      <td>71.000000</td>\n",
       "      <td>8197</td>\n",
       "      <td>3</td>\n",
       "      <td>2</td>\n",
       "      <td>6</td>\n",
       "      <td>5</td>\n",
       "      <td>1977</td>\n",
       "      <td>1977</td>\n",
       "      <td>148.0</td>\n",
       "      <td>3</td>\n",
       "      <td>3</td>\n",
       "      <td>3.0</td>\n",
       "      <td>3.0</td>\n",
       "      <td>1.0</td>\n",
       "      <td>660.0</td>\n",
       "      <td>660.0</td>\n",
       "      <td>5</td>\n",
       "      <td>Y</td>\n",
       "      <td>1285</td>\n",
       "      <td>0</td>\n",
       "      <td>0</td>\n",
       "      <td>1285</td>\n",
       "      <td>0.0</td>\n",
       "      <td>0.0</td>\n",
       "      <td>1</td>\n",
       "      <td>1</td>\n",
       "      <td>3</td>\n",
       "      <td>1</td>\n",
       "      <td>3</td>\n",
       "      <td>7</td>\n",
       "      <td>8</td>\n",
       "      <td>1</td>\n",
       "      <td>3</td>\n",
       "      <td>1977.0</td>\n",
       "      <td>2.0</td>\n",
       "      <td>2.0</td>\n",
       "      <td>528.0</td>\n",
       "      <td>3</td>\n",
       "      <td>3</td>\n",
       "      <td>2</td>\n",
       "      <td>138</td>\n",
       "      <td>0</td>\n",
       "      <td>0</td>\n",
       "      <td>0</td>\n",
       "      <td>0</td>\n",
       "      <td>0</td>\n",
       "      <td>0</td>\n",
       "      <td>3</td>\n",
       "      <td>0</td>\n",
       "      <td>4</td>\n",
       "      <td>2007</td>\n",
       "      <td>143500</td>\n",
       "      <td>0.00747</td>\n",
       "      <td>138</td>\n",
       "      <td>2083.0</td>\n",
       "      <td>0</td>\n",
       "      <td>1</td>\n",
       "      <td>1</td>\n",
       "      <td>1</td>\n",
       "      <td>0</td>\n",
       "      <td>0</td>\n",
       "      <td>0</td>\n",
       "      <td>0</td>\n",
       "      <td>0</td>\n",
       "      <td>0</td>\n",
       "      <td>0.0</td>\n",
       "      <td>0</td>\n",
       "      <td>0</td>\n",
       "      <td>0.0</td>\n",
       "      <td>0.0</td>\n",
       "      <td>0</td>\n",
       "      <td>0</td>\n",
       "      <td>0.0</td>\n",
       "      <td>0.0</td>\n",
       "      <td>0</td>\n",
       "      <td>0</td>\n",
       "      <td>0</td>\n",
       "      <td>2</td>\n",
       "      <td>0</td>\n",
       "      <td>0</td>\n",
       "      <td>0</td>\n",
       "      <td>0</td>\n",
       "      <td>0.0</td>\n",
       "      <td>0.0</td>\n",
       "      <td>0.0</td>\n",
       "      <td>0.0</td>\n",
       "      <td>0.0</td>\n",
       "      <td>0.0</td>\n",
       "      <td>0.0</td>\n",
       "      <td>0.0</td>\n",
       "      <td>0.0</td>\n",
       "      <td>1.5</td>\n",
       "      <td>0.0</td>\n",
       "      <td>0.0</td>\n",
       "      <td>0.0</td>\n",
       "      <td>0.0</td>\n",
       "      <td>0.0</td>\n",
       "      <td>0.0</td>\n",
       "      <td>0.0</td>\n",
       "      <td>0.0</td>\n",
       "      <td>0.0</td>\n",
       "      <td>0.0</td>\n",
       "      <td>0.0</td>\n",
       "      <td>0.0</td>\n",
       "      <td>0.0</td>\n",
       "      <td>0.0</td>\n",
       "      <td>0.0</td>\n",
       "      <td>0.0</td>\n",
       "      <td>0.0</td>\n",
       "      <td>0.0</td>\n",
       "      <td>0.0</td>\n",
       "      <td>0.0</td>\n",
       "      <td>0.0</td>\n",
       "      <td>1.0</td>\n",
       "      <td>0.0</td>\n",
       "      <td>0.0</td>\n",
       "      <td>0.0</td>\n",
       "      <td>0.0</td>\n",
       "      <td>0.0</td>\n",
       "      <td>0.0</td>\n",
       "      <td>0.0</td>\n",
       "      <td>0.0</td>\n",
       "      <td>0.0</td>\n",
       "      <td>0.0</td>\n",
       "      <td>1.0</td>\n",
       "      <td>0.0</td>\n",
       "      <td>0.0</td>\n",
       "      <td>0.0</td>\n",
       "      <td>0.0</td>\n",
       "      <td>0.0</td>\n",
       "      <td>1.0</td>\n",
       "      <td>0.0</td>\n",
       "      <td>0.0</td>\n",
       "      <td>0.0</td>\n",
       "      <td>0.0</td>\n",
       "      <td>0.0</td>\n",
       "      <td>0.0</td>\n",
       "      <td>0.0</td>\n",
       "      <td>0.0</td>\n",
       "      <td>0.0</td>\n",
       "      <td>1.0</td>\n",
       "      <td>0.0</td>\n",
       "      <td>0.0</td>\n",
       "      <td>0.0</td>\n",
       "      <td>0.0</td>\n",
       "      <td>0.0</td>\n",
       "      <td>1.0</td>\n",
       "      <td>0.0</td>\n",
       "      <td>0.0</td>\n",
       "    </tr>\n",
       "    <tr>\n",
       "      <th>3</th>\n",
       "      <td>2062</td>\n",
       "      <td>905106150</td>\n",
       "      <td>109.000000</td>\n",
       "      <td>8724</td>\n",
       "      <td>3</td>\n",
       "      <td>2</td>\n",
       "      <td>5</td>\n",
       "      <td>5</td>\n",
       "      <td>1968</td>\n",
       "      <td>1968</td>\n",
       "      <td>0.0</td>\n",
       "      <td>3</td>\n",
       "      <td>3</td>\n",
       "      <td>4.0</td>\n",
       "      <td>3.0</td>\n",
       "      <td>1.0</td>\n",
       "      <td>402.0</td>\n",
       "      <td>894.0</td>\n",
       "      <td>4</td>\n",
       "      <td>Y</td>\n",
       "      <td>894</td>\n",
       "      <td>0</td>\n",
       "      <td>0</td>\n",
       "      <td>894</td>\n",
       "      <td>0.0</td>\n",
       "      <td>0.0</td>\n",
       "      <td>1</td>\n",
       "      <td>0</td>\n",
       "      <td>3</td>\n",
       "      <td>1</td>\n",
       "      <td>3</td>\n",
       "      <td>5</td>\n",
       "      <td>8</td>\n",
       "      <td>1</td>\n",
       "      <td>1</td>\n",
       "      <td>1968.0</td>\n",
       "      <td>0.0</td>\n",
       "      <td>2.0</td>\n",
       "      <td>450.0</td>\n",
       "      <td>3</td>\n",
       "      <td>3</td>\n",
       "      <td>2</td>\n",
       "      <td>0</td>\n",
       "      <td>0</td>\n",
       "      <td>0</td>\n",
       "      <td>0</td>\n",
       "      <td>0</td>\n",
       "      <td>0</td>\n",
       "      <td>0</td>\n",
       "      <td>0</td>\n",
       "      <td>0</td>\n",
       "      <td>5</td>\n",
       "      <td>2007</td>\n",
       "      <td>129000</td>\n",
       "      <td>0.00747</td>\n",
       "      <td>0</td>\n",
       "      <td>1788.0</td>\n",
       "      <td>0</td>\n",
       "      <td>1</td>\n",
       "      <td>1</td>\n",
       "      <td>0</td>\n",
       "      <td>0</td>\n",
       "      <td>0</td>\n",
       "      <td>0</td>\n",
       "      <td>0</td>\n",
       "      <td>0</td>\n",
       "      <td>0</td>\n",
       "      <td>0.0</td>\n",
       "      <td>0</td>\n",
       "      <td>0</td>\n",
       "      <td>0.0</td>\n",
       "      <td>0.0</td>\n",
       "      <td>0</td>\n",
       "      <td>0</td>\n",
       "      <td>0.0</td>\n",
       "      <td>0.0</td>\n",
       "      <td>0</td>\n",
       "      <td>0</td>\n",
       "      <td>0</td>\n",
       "      <td>0</td>\n",
       "      <td>0</td>\n",
       "      <td>0</td>\n",
       "      <td>2</td>\n",
       "      <td>0</td>\n",
       "      <td>0.0</td>\n",
       "      <td>0.0</td>\n",
       "      <td>0.0</td>\n",
       "      <td>492.0</td>\n",
       "      <td>0.0</td>\n",
       "      <td>0.0</td>\n",
       "      <td>0.0</td>\n",
       "      <td>0.0</td>\n",
       "      <td>0.0</td>\n",
       "      <td>1.0</td>\n",
       "      <td>0.0</td>\n",
       "      <td>0.0</td>\n",
       "      <td>0.0</td>\n",
       "      <td>0.0</td>\n",
       "      <td>0.0</td>\n",
       "      <td>0.0</td>\n",
       "      <td>0.0</td>\n",
       "      <td>0.0</td>\n",
       "      <td>0.0</td>\n",
       "      <td>0.0</td>\n",
       "      <td>0.0</td>\n",
       "      <td>0.0</td>\n",
       "      <td>0.0</td>\n",
       "      <td>0.0</td>\n",
       "      <td>0.0</td>\n",
       "      <td>0.0</td>\n",
       "      <td>0.0</td>\n",
       "      <td>0.0</td>\n",
       "      <td>0.0</td>\n",
       "      <td>0.0</td>\n",
       "      <td>0.0</td>\n",
       "      <td>1.0</td>\n",
       "      <td>0.0</td>\n",
       "      <td>0.0</td>\n",
       "      <td>0.0</td>\n",
       "      <td>0.0</td>\n",
       "      <td>0.0</td>\n",
       "      <td>0.0</td>\n",
       "      <td>0.0</td>\n",
       "      <td>0.0</td>\n",
       "      <td>0.0</td>\n",
       "      <td>0.0</td>\n",
       "      <td>1.0</td>\n",
       "      <td>0.0</td>\n",
       "      <td>0.0</td>\n",
       "      <td>0.0</td>\n",
       "      <td>0.0</td>\n",
       "      <td>0.0</td>\n",
       "      <td>1.0</td>\n",
       "      <td>0.0</td>\n",
       "      <td>0.0</td>\n",
       "      <td>0.0</td>\n",
       "      <td>0.0</td>\n",
       "      <td>0.0</td>\n",
       "      <td>0.0</td>\n",
       "      <td>0.0</td>\n",
       "      <td>0.0</td>\n",
       "      <td>0.0</td>\n",
       "      <td>1.0</td>\n",
       "      <td>0.0</td>\n",
       "      <td>0.0</td>\n",
       "      <td>0.0</td>\n",
       "      <td>0.0</td>\n",
       "      <td>0.0</td>\n",
       "      <td>0.0</td>\n",
       "      <td>1.0</td>\n",
       "      <td>0.0</td>\n",
       "    </tr>\n",
       "    <tr>\n",
       "      <th>4</th>\n",
       "      <td>86</td>\n",
       "      <td>532376160</td>\n",
       "      <td>65.000000</td>\n",
       "      <td>8450</td>\n",
       "      <td>3</td>\n",
       "      <td>2</td>\n",
       "      <td>5</td>\n",
       "      <td>8</td>\n",
       "      <td>1965</td>\n",
       "      <td>2009</td>\n",
       "      <td>0.0</td>\n",
       "      <td>3</td>\n",
       "      <td>4</td>\n",
       "      <td>3.0</td>\n",
       "      <td>3.0</td>\n",
       "      <td>1.0</td>\n",
       "      <td>224.0</td>\n",
       "      <td>894.0</td>\n",
       "      <td>5</td>\n",
       "      <td>Y</td>\n",
       "      <td>894</td>\n",
       "      <td>0</td>\n",
       "      <td>0</td>\n",
       "      <td>894</td>\n",
       "      <td>1.0</td>\n",
       "      <td>0.0</td>\n",
       "      <td>1</td>\n",
       "      <td>0</td>\n",
       "      <td>3</td>\n",
       "      <td>1</td>\n",
       "      <td>3</td>\n",
       "      <td>5</td>\n",
       "      <td>8</td>\n",
       "      <td>1</td>\n",
       "      <td>4</td>\n",
       "      <td>1973.0</td>\n",
       "      <td>1.0</td>\n",
       "      <td>1.0</td>\n",
       "      <td>336.0</td>\n",
       "      <td>3</td>\n",
       "      <td>3</td>\n",
       "      <td>2</td>\n",
       "      <td>416</td>\n",
       "      <td>144</td>\n",
       "      <td>0</td>\n",
       "      <td>0</td>\n",
       "      <td>0</td>\n",
       "      <td>0</td>\n",
       "      <td>0</td>\n",
       "      <td>3</td>\n",
       "      <td>0</td>\n",
       "      <td>4</td>\n",
       "      <td>2010</td>\n",
       "      <td>138500</td>\n",
       "      <td>0.00747</td>\n",
       "      <td>560</td>\n",
       "      <td>2348.0</td>\n",
       "      <td>0</td>\n",
       "      <td>1</td>\n",
       "      <td>1</td>\n",
       "      <td>1</td>\n",
       "      <td>0</td>\n",
       "      <td>0</td>\n",
       "      <td>0</td>\n",
       "      <td>0</td>\n",
       "      <td>1</td>\n",
       "      <td>0</td>\n",
       "      <td>0.0</td>\n",
       "      <td>0</td>\n",
       "      <td>0</td>\n",
       "      <td>0.0</td>\n",
       "      <td>0.0</td>\n",
       "      <td>0</td>\n",
       "      <td>0</td>\n",
       "      <td>0.0</td>\n",
       "      <td>0.0</td>\n",
       "      <td>0</td>\n",
       "      <td>0</td>\n",
       "      <td>2</td>\n",
       "      <td>0</td>\n",
       "      <td>0</td>\n",
       "      <td>0</td>\n",
       "      <td>0</td>\n",
       "      <td>0</td>\n",
       "      <td>0.0</td>\n",
       "      <td>0.0</td>\n",
       "      <td>0.0</td>\n",
       "      <td>117.0</td>\n",
       "      <td>553.0</td>\n",
       "      <td>0.0</td>\n",
       "      <td>0.0</td>\n",
       "      <td>0.0</td>\n",
       "      <td>0.0</td>\n",
       "      <td>1.0</td>\n",
       "      <td>0.0</td>\n",
       "      <td>0.0</td>\n",
       "      <td>0.0</td>\n",
       "      <td>0.0</td>\n",
       "      <td>0.0</td>\n",
       "      <td>0.0</td>\n",
       "      <td>0.0</td>\n",
       "      <td>0.0</td>\n",
       "      <td>0.0</td>\n",
       "      <td>0.0</td>\n",
       "      <td>0.0</td>\n",
       "      <td>0.0</td>\n",
       "      <td>0.0</td>\n",
       "      <td>0.0</td>\n",
       "      <td>0.0</td>\n",
       "      <td>0.0</td>\n",
       "      <td>0.0</td>\n",
       "      <td>0.0</td>\n",
       "      <td>0.0</td>\n",
       "      <td>0.0</td>\n",
       "      <td>0.0</td>\n",
       "      <td>1.0</td>\n",
       "      <td>0.0</td>\n",
       "      <td>0.0</td>\n",
       "      <td>0.0</td>\n",
       "      <td>0.0</td>\n",
       "      <td>0.0</td>\n",
       "      <td>0.0</td>\n",
       "      <td>0.0</td>\n",
       "      <td>0.0</td>\n",
       "      <td>0.0</td>\n",
       "      <td>0.0</td>\n",
       "      <td>1.0</td>\n",
       "      <td>0.0</td>\n",
       "      <td>0.0</td>\n",
       "      <td>0.0</td>\n",
       "      <td>0.0</td>\n",
       "      <td>0.0</td>\n",
       "      <td>1.0</td>\n",
       "      <td>0.0</td>\n",
       "      <td>0.0</td>\n",
       "      <td>0.0</td>\n",
       "      <td>0.0</td>\n",
       "      <td>0.0</td>\n",
       "      <td>0.0</td>\n",
       "      <td>0.0</td>\n",
       "      <td>0.0</td>\n",
       "      <td>0.0</td>\n",
       "      <td>1.0</td>\n",
       "      <td>0.0</td>\n",
       "      <td>0.0</td>\n",
       "      <td>0.0</td>\n",
       "      <td>0.0</td>\n",
       "      <td>0.0</td>\n",
       "      <td>0.0</td>\n",
       "      <td>1.0</td>\n",
       "      <td>0.0</td>\n",
       "    </tr>\n",
       "  </tbody>\n",
       "</table>\n",
       "</div>"
      ],
      "text/plain": [
       "     id        pid  lot_frontage  lot_area  lot_shape  land_slope  \\\n",
       "0   109  533352170    100.972204     13517          2           2   \n",
       "1   770  905101490     80.000000      8816          3           2   \n",
       "2  2063  905107140     71.000000      8197          3           2   \n",
       "3  2062  905106150    109.000000      8724          3           2   \n",
       "4    86  532376160     65.000000      8450          3           2   \n",
       "\n",
       "   overall_qual  overall_cond  year_built  year_remod/add  mas_vnr_area  \\\n",
       "0             6             8        1976            2005         289.0   \n",
       "1             5             6        1963            1963           0.0   \n",
       "2             6             5        1977            1977         148.0   \n",
       "3             5             5        1968            1968           0.0   \n",
       "4             5             8        1965            2009           0.0   \n",
       "\n",
       "   exter_qual  exter_cond  bsmt_qual  bsmt_cond  bsmt_exposure  bsmt_unf_sf  \\\n",
       "0           4           3        3.0        3.0            1.0        192.0   \n",
       "1           3           3        3.0        3.0            1.0        470.0   \n",
       "2           3           3        3.0        3.0            1.0        660.0   \n",
       "3           3           3        4.0        3.0            1.0        402.0   \n",
       "4           3           4        3.0        3.0            1.0        224.0   \n",
       "\n",
       "   total_bsmt_sf  heating_qc central_air  1st_flr_sf  2nd_flr_sf  \\\n",
       "0          725.0           5           Y         725         754   \n",
       "1         1121.0           3           Y        1121           0   \n",
       "2          660.0           5           Y        1285           0   \n",
       "3          894.0           4           Y         894           0   \n",
       "4          894.0           5           Y         894           0   \n",
       "\n",
       "   low_qual_fin_sf  gr_liv_area  bsmt_full_bath  bsmt_half_bath  full_bath  \\\n",
       "0                0         1479             0.0             0.0          2   \n",
       "1                0         1121             1.0             0.0          1   \n",
       "2                0         1285             0.0             0.0          1   \n",
       "3                0          894             0.0             0.0          1   \n",
       "4                0          894             1.0             0.0          1   \n",
       "\n",
       "   half_bath  bedroom_abvgr  kitchen_abvgr  kitchen_qual  totrms_abvgrd  \\\n",
       "0          1              3              1             4              6   \n",
       "1          0              3              1             3              5   \n",
       "2          1              3              1             3              7   \n",
       "3          0              3              1             3              5   \n",
       "4          0              3              1             3              5   \n",
       "\n",
       "   functional  fireplaces  fireplace_qu  garage_yr_blt  garage_finish  \\\n",
       "0           8           0             0         1976.0            2.0   \n",
       "1           8           0             0         1963.0            1.0   \n",
       "2           8           1             3         1977.0            2.0   \n",
       "3           8           1             1         1968.0            0.0   \n",
       "4           8           1             4         1973.0            1.0   \n",
       "\n",
       "   garage_cars  garage_area  garage_qual  garage_cond  paved_drive  \\\n",
       "0          2.0        475.0            3            3            2   \n",
       "1          2.0        480.0            3            3            2   \n",
       "2          2.0        528.0            3            3            2   \n",
       "3          2.0        450.0            3            3            2   \n",
       "4          1.0        336.0            3            3            2   \n",
       "\n",
       "   wood_deck_sf  open_porch_sf  enclosed_porch  3ssn_porch  screen_porch  \\\n",
       "0             0             44               0           0             0   \n",
       "1             0             80               0           0             0   \n",
       "2           138              0               0           0             0   \n",
       "3             0              0               0           0             0   \n",
       "4           416            144               0           0             0   \n",
       "\n",
       "   pool_area  pool_qc  fence  misc_val  mo_sold  yr_sold  saleprice  \\\n",
       "0          0        0      0         0        3     2010     130500   \n",
       "1          0        0      3         0        6     2009     139000   \n",
       "2          0        0      3         0        4     2007     143500   \n",
       "3          0        0      0         0        5     2007     129000   \n",
       "4          0        0      3         0        4     2010     138500   \n",
       "\n",
       "   frontage_pct  total_porch_sf  total_sf  has_pool  has_garage  has_basement  \\\n",
       "0       0.00747              44    2248.0         0           1             1   \n",
       "1       0.00747              80    2322.0         0           1             1   \n",
       "2       0.00747             138    2083.0         0           1             1   \n",
       "3       0.00747               0    1788.0         0           1             1   \n",
       "4       0.00747             560    2348.0         0           1             1   \n",
       "\n",
       "   has_porch  Artery  Feedr  PosA  PosN  RRAe  RRAn  RRNe  RRNn  AsphShn  \\\n",
       "0          1       0      0     0     0     1     0   0.0     0        0   \n",
       "1          1       0      1     0     0     0     0   0.0     0        0   \n",
       "2          1       0      0     0     0     0     0   0.0     0        0   \n",
       "3          0       0      0     0     0     0     0   0.0     0        0   \n",
       "4          1       0      0     0     0     1     0   0.0     0        0   \n",
       "\n",
       "   Brk Cmn  BrkComm  BrkFace  CBlock  CemntBd  CmentBd  HdBoard  ImStucc  \\\n",
       "0      0.0      0.0        0       0      0.0      0.0        1        0   \n",
       "1      0.0      0.0        0       0      0.0      0.0        0        0   \n",
       "2      0.0      0.0        0       0      0.0      0.0        0        0   \n",
       "3      0.0      0.0        0       0      0.0      0.0        0        0   \n",
       "4      0.0      0.0        0       0      0.0      0.0        0        0   \n",
       "\n",
       "   MetalSd  Plywood  Stone  Stucco  VinylSd  Wd Sdng  Wd Shng  WdShing  \\\n",
       "0        0        1      0       0        0        0      0.0      0.0   \n",
       "1        0        0      0       0        2        0      0.0      0.0   \n",
       "2        0        2      0       0        0        0      0.0      0.0   \n",
       "3        0        0      0       0        2        0      0.0      0.0   \n",
       "4        2        0      0       0        0        0      0.0      0.0   \n",
       "\n",
       "   bsmt_sf_ALQ  bsmt_sf_BLQ  bsmt_sf_GLQ  bsmt_sf_LwQ  bsmt_sf_NA  \\\n",
       "0          0.0          0.0        533.0          0.0         0.0   \n",
       "1          0.0          0.0          0.0          0.0         0.0   \n",
       "2          0.0          0.0          0.0          0.0         0.0   \n",
       "3          0.0        492.0          0.0          0.0         0.0   \n",
       "4          0.0        117.0        553.0          0.0         0.0   \n",
       "\n",
       "   bsmt_sf_Rec  bsmt_sf_Unf  total_bath  neighborhood_Blueste  \\\n",
       "0          0.0          0.0         2.5                   0.0   \n",
       "1        651.0          0.0         1.0                   0.0   \n",
       "2          0.0          0.0         1.5                   0.0   \n",
       "3          0.0          0.0         1.0                   0.0   \n",
       "4          0.0          0.0         1.0                   0.0   \n",
       "\n",
       "   neighborhood_BrDale  neighborhood_BrkSide  neighborhood_ClearCr  \\\n",
       "0                  0.0                   0.0                   0.0   \n",
       "1                  0.0                   0.0                   0.0   \n",
       "2                  0.0                   0.0                   0.0   \n",
       "3                  0.0                   0.0                   0.0   \n",
       "4                  0.0                   0.0                   0.0   \n",
       "\n",
       "   neighborhood_CollgCr  neighborhood_Crawfor  neighborhood_Edwards  \\\n",
       "0                   0.0                   0.0                   0.0   \n",
       "1                   0.0                   0.0                   0.0   \n",
       "2                   0.0                   0.0                   0.0   \n",
       "3                   0.0                   0.0                   0.0   \n",
       "4                   0.0                   0.0                   0.0   \n",
       "\n",
       "   neighborhood_Gilbert  neighborhood_Greens  neighborhood_GrnHill  \\\n",
       "0                   0.0                  0.0                   0.0   \n",
       "1                   0.0                  0.0                   0.0   \n",
       "2                   0.0                  0.0                   0.0   \n",
       "3                   0.0                  0.0                   0.0   \n",
       "4                   0.0                  0.0                   0.0   \n",
       "\n",
       "   neighborhood_IDOTRR  neighborhood_Landmrk  neighborhood_MeadowV  \\\n",
       "0                  0.0                   0.0                   0.0   \n",
       "1                  0.0                   0.0                   0.0   \n",
       "2                  0.0                   0.0                   0.0   \n",
       "3                  0.0                   0.0                   0.0   \n",
       "4                  0.0                   0.0                   0.0   \n",
       "\n",
       "   neighborhood_Mitchel  neighborhood_NAmes  neighborhood_NPkVill  \\\n",
       "0                   0.0                 0.0                   0.0   \n",
       "1                   0.0                 0.0                   0.0   \n",
       "2                   0.0                 0.0                   0.0   \n",
       "3                   0.0                 0.0                   0.0   \n",
       "4                   0.0                 0.0                   0.0   \n",
       "\n",
       "   neighborhood_NWAmes  neighborhood_NoRidge  neighborhood_NridgHt  \\\n",
       "0                  0.0                   0.0                   0.0   \n",
       "1                  0.0                   0.0                   0.0   \n",
       "2                  0.0                   0.0                   0.0   \n",
       "3                  0.0                   0.0                   0.0   \n",
       "4                  0.0                   0.0                   0.0   \n",
       "\n",
       "   neighborhood_OldTown  neighborhood_SWISU  neighborhood_Sawyer  \\\n",
       "0                   0.0                 0.0                  1.0   \n",
       "1                   0.0                 0.0                  1.0   \n",
       "2                   0.0                 0.0                  1.0   \n",
       "3                   0.0                 0.0                  1.0   \n",
       "4                   0.0                 0.0                  1.0   \n",
       "\n",
       "   neighborhood_SawyerW  neighborhood_Somerst  neighborhood_StoneBr  \\\n",
       "0                   0.0                   0.0                   0.0   \n",
       "1                   0.0                   0.0                   0.0   \n",
       "2                   0.0                   0.0                   0.0   \n",
       "3                   0.0                   0.0                   0.0   \n",
       "4                   0.0                   0.0                   0.0   \n",
       "\n",
       "   neighborhood_Timber  neighborhood_Veenker  utilities_NoSeWa  \\\n",
       "0                  0.0                   0.0               0.0   \n",
       "1                  0.0                   0.0               0.0   \n",
       "2                  0.0                   0.0               0.0   \n",
       "3                  0.0                   0.0               0.0   \n",
       "4                  0.0                   0.0               0.0   \n",
       "\n",
       "   utilities_NoSewr  electrical_FuseF  electrical_FuseP  electrical_Mix  \\\n",
       "0               0.0               0.0               0.0             0.0   \n",
       "1               0.0               0.0               0.0             0.0   \n",
       "2               0.0               0.0               0.0             0.0   \n",
       "3               0.0               0.0               0.0             0.0   \n",
       "4               0.0               0.0               0.0             0.0   \n",
       "\n",
       "   electrical_SBrkr  heating_GasW  heating_Grav  heating_OthW  heating_Wall  \\\n",
       "0               1.0           0.0           0.0           0.0           0.0   \n",
       "1               1.0           0.0           0.0           0.0           0.0   \n",
       "2               1.0           0.0           0.0           0.0           0.0   \n",
       "3               1.0           0.0           0.0           0.0           0.0   \n",
       "4               1.0           0.0           0.0           0.0           0.0   \n",
       "\n",
       "   house_style_1.5Unf  house_style_1Story  house_style_2.5Fin  \\\n",
       "0                 0.0                 0.0                 0.0   \n",
       "1                 0.0                 1.0                 0.0   \n",
       "2                 0.0                 1.0                 0.0   \n",
       "3                 0.0                 1.0                 0.0   \n",
       "4                 0.0                 1.0                 0.0   \n",
       "\n",
       "   house_style_2.5Unf  house_style_2Story  house_style_SFoyer  \\\n",
       "0                 0.0                 1.0                 0.0   \n",
       "1                 0.0                 0.0                 0.0   \n",
       "2                 0.0                 0.0                 0.0   \n",
       "3                 0.0                 0.0                 0.0   \n",
       "4                 0.0                 0.0                 0.0   \n",
       "\n",
       "   house_style_SLvl  bldg_type_2fmCon  bldg_type_Duplex  bldg_type_Twnhs  \\\n",
       "0               0.0               0.0               0.0              0.0   \n",
       "1               0.0               0.0               0.0              0.0   \n",
       "2               0.0               0.0               0.0              0.0   \n",
       "3               0.0               0.0               0.0              0.0   \n",
       "4               0.0               0.0               0.0              0.0   \n",
       "\n",
       "   bldg_type_TwnhsE  foundation_CBlock  foundation_PConc  foundation_Slab  \\\n",
       "0               0.0                1.0               0.0              0.0   \n",
       "1               0.0                0.0               1.0              0.0   \n",
       "2               0.0                1.0               0.0              0.0   \n",
       "3               0.0                1.0               0.0              0.0   \n",
       "4               0.0                1.0               0.0              0.0   \n",
       "\n",
       "   foundation_Stone  foundation_Wood  mas_vnr_type_BrkCmn  \\\n",
       "0               0.0              0.0                  0.0   \n",
       "1               0.0              0.0                  0.0   \n",
       "2               0.0              0.0                  0.0   \n",
       "3               0.0              0.0                  0.0   \n",
       "4               0.0              0.0                  0.0   \n",
       "\n",
       "   mas_vnr_type_BrkFace  mas_vnr_type_None  mas_vnr_type_Stone  \n",
       "0                   1.0                0.0                 0.0  \n",
       "1                   0.0                1.0                 0.0  \n",
       "2                   1.0                0.0                 0.0  \n",
       "3                   0.0                1.0                 0.0  \n",
       "4                   0.0                1.0                 0.0  "
      ]
     },
     "execution_count": 48,
     "metadata": {},
     "output_type": "execute_result"
    }
   ],
   "source": [
    "train_ohe.head(5)"
   ]
  },
  {
   "cell_type": "markdown",
   "id": "f05cfd09-0fb0-4dd0-adfc-b4809afea9d7",
   "metadata": {},
   "source": [
    " "
   ]
  },
  {
   "cell_type": "markdown",
   "id": "deb952e2-e80e-4a17-a416-3905c75512c9",
   "metadata": {},
   "source": [
    "Baseline model\n"
   ]
  },
  {
   "cell_type": "markdown",
   "id": "2fb8e89b-8117-4bc3-ad1a-dbe63b1afdbb",
   "metadata": {
    "tags": []
   },
   "source": [
    "## Modeling"
   ]
  },
  {
   "cell_type": "markdown",
   "id": "ca867f89-14a7-4bec-adc3-8ca5af32e37d",
   "metadata": {},
   "source": [
    "For my first model, I used Lasso regularization to determine the best features for my final model. "
   ]
  },
  {
   "cell_type": "markdown",
   "id": "b44059db-271e-4a9b-bf51-30e35cf9db9c",
   "metadata": {},
   "source": [
    " "
   ]
  },
  {
   "cell_type": "code",
   "execution_count": 49,
   "id": "00acdbb0-61ed-4d73-98a8-8a287f641fcf",
   "metadata": {},
   "outputs": [],
   "source": [
    "features =  all_ohe + ['year_built', 'year_remod/add', 'lot_area', \n",
    "    'total_sf',  'gr_liv_area', 'overall_qual', 'overall_cond','exter_qual', 'exter_cond','functional',  # ---------- high level\n",
    "    'has_pool', 'has_basement', 'has_garage', 'has_porch',\n",
    "    'kitchen_qual', 'garage_qual', 'garage_cond', \n",
    "    'bsmt_exposure', 'total_bsmt_sf', 'bsmt_cond', 'bsmt_qual',\n",
    "    'heating_qc', '1st_flr_sf', '2nd_flr_sf', 'total_porch_sf', 'lot_area', 'garage_cars', 'mas_vnr_area',\n",
    "    'low_qual_fin_sf',\n",
    "    'bsmt_full_bath', 'bsmt_half_bath', 'full_bath','half_bath', \n",
    "    'mo_sold', 'yr_sold', \n",
    "    'bedroom_abvgr', 'kitchen_abvgr', 'totrms_abvgrd', \n",
    "    # 'garage_finish', 'garage_area','garage_yr_blt',    #----------------------------------------------------------  #Removed: high correlations\n",
    "    # 'open_porch_sf', 'enclosed_porch', '3ssn_porch', 'screen_porch', 'wood_deck_sf', #----------------------------  #Removed: redundant\n",
    "    'pool_area', 'pool_qc', 'paved_drive',\n",
    "    'fence', 'misc_val', \n",
    "    'fireplaces', 'fireplace_qu',\n",
    "    'lot_shape', 'land_slope',                       \n",
    "    'bsmt_sf_ALQ', 'bsmt_sf_BLQ', 'bsmt_sf_GLQ',\n",
    "    'bsmt_sf_LwQ', 'bsmt_sf_NA', 'bsmt_sf_Rec', 'bsmt_sf_Unf',    #--------------------------------------------------- basement finish types&SF\n",
    "    'Artery', 'Feedr', 'PosA', 'PosN', 'RRAe', 'RRAn', 'RRNe', 'RRNn',  #----------------------------------------------special conditions/location\n",
    "    'AsphShn', 'Brk Cmn', 'BrkComm', 'BrkFace', 'CBlock', 'CemntBd', 'HdBoard', 'ImStucc', #---------------------------exterior materials\n",
    "    'MetalSd', 'Plywood', 'Stone', 'Stucco', 'VinylSd', 'Wd Sdng',\n",
    "    'Wd Shng', 'WdShing']"
   ]
  },
  {
   "cell_type": "markdown",
   "id": "d85edd32-9179-4cfb-8ff5-87b5b7cb1275",
   "metadata": {},
   "source": [
    " "
   ]
  },
  {
   "cell_type": "code",
   "execution_count": 50,
   "id": "3259ab19-f5b9-4f54-86ac-b02f4adcdd11",
   "metadata": {},
   "outputs": [],
   "source": [
    "X = train_ohe[features]       \n",
    "y = train['saleprice'] "
   ]
  },
  {
   "cell_type": "markdown",
   "id": "f1ac6309-dc88-46cb-81c0-1e0f122b514e",
   "metadata": {},
   "source": [
    " "
   ]
  },
  {
   "cell_type": "markdown",
   "id": "d5a3b157-8a36-4ab7-a2b8-5cf5a2a2c5a9",
   "metadata": {},
   "source": [
    "#### Train - validation split"
   ]
  },
  {
   "cell_type": "code",
   "execution_count": 51,
   "id": "f336c1ee-2290-4593-9602-6cd265519d83",
   "metadata": {},
   "outputs": [],
   "source": [
    "# Train test split (Train validation split)\n",
    "X_train, X_val, y_train, y_val = train_test_split(X, y, random_state=404)"
   ]
  },
  {
   "cell_type": "markdown",
   "id": "7ea0b27d-9aef-456c-a28a-4efaaa59815e",
   "metadata": {},
   "source": [
    " "
   ]
  },
  {
   "cell_type": "markdown",
   "id": "c5f64f55-a4eb-496e-85b4-89c4a2defd49",
   "metadata": {},
   "source": [
    "#### Pipeline"
   ]
  },
  {
   "cell_type": "code",
   "execution_count": 52,
   "id": "f5dcb763-1e68-42ff-8a21-eae692da1202",
   "metadata": {},
   "outputs": [],
   "source": [
    "# Show pipe diagram\n",
    "from sklearn import set_config\n",
    "set_config(display='diagram')\n",
    "\n",
    "# Instantiate pipeline\n",
    "pipe = make_pipeline(\n",
    "    StandardScaler(),\n",
    "    Lasso(max_iter=10000, alpha=0.2)\n",
    ")"
   ]
  },
  {
   "cell_type": "markdown",
   "id": "69817e39-6c69-4a78-a665-6b7067be58bf",
   "metadata": {},
   "source": [
    " "
   ]
  },
  {
   "cell_type": "code",
   "execution_count": 53,
   "id": "9efa3b96-6216-4369-81da-e86a758461d2",
   "metadata": {},
   "outputs": [
    {
     "data": {
      "text/html": [
       "<style>#sk-9f040e2d-cf4e-4365-8240-4e9d6d4e9272 {color: black;background-color: white;}#sk-9f040e2d-cf4e-4365-8240-4e9d6d4e9272 pre{padding: 0;}#sk-9f040e2d-cf4e-4365-8240-4e9d6d4e9272 div.sk-toggleable {background-color: white;}#sk-9f040e2d-cf4e-4365-8240-4e9d6d4e9272 label.sk-toggleable__label {cursor: pointer;display: block;width: 100%;margin-bottom: 0;padding: 0.3em;box-sizing: border-box;text-align: center;}#sk-9f040e2d-cf4e-4365-8240-4e9d6d4e9272 label.sk-toggleable__label-arrow:before {content: \"▸\";float: left;margin-right: 0.25em;color: #696969;}#sk-9f040e2d-cf4e-4365-8240-4e9d6d4e9272 label.sk-toggleable__label-arrow:hover:before {color: black;}#sk-9f040e2d-cf4e-4365-8240-4e9d6d4e9272 div.sk-estimator:hover label.sk-toggleable__label-arrow:before {color: black;}#sk-9f040e2d-cf4e-4365-8240-4e9d6d4e9272 div.sk-toggleable__content {max-height: 0;max-width: 0;overflow: hidden;text-align: left;background-color: #f0f8ff;}#sk-9f040e2d-cf4e-4365-8240-4e9d6d4e9272 div.sk-toggleable__content pre {margin: 0.2em;color: black;border-radius: 0.25em;background-color: #f0f8ff;}#sk-9f040e2d-cf4e-4365-8240-4e9d6d4e9272 input.sk-toggleable__control:checked~div.sk-toggleable__content {max-height: 200px;max-width: 100%;overflow: auto;}#sk-9f040e2d-cf4e-4365-8240-4e9d6d4e9272 input.sk-toggleable__control:checked~label.sk-toggleable__label-arrow:before {content: \"▾\";}#sk-9f040e2d-cf4e-4365-8240-4e9d6d4e9272 div.sk-estimator input.sk-toggleable__control:checked~label.sk-toggleable__label {background-color: #d4ebff;}#sk-9f040e2d-cf4e-4365-8240-4e9d6d4e9272 div.sk-label input.sk-toggleable__control:checked~label.sk-toggleable__label {background-color: #d4ebff;}#sk-9f040e2d-cf4e-4365-8240-4e9d6d4e9272 input.sk-hidden--visually {border: 0;clip: rect(1px 1px 1px 1px);clip: rect(1px, 1px, 1px, 1px);height: 1px;margin: -1px;overflow: hidden;padding: 0;position: absolute;width: 1px;}#sk-9f040e2d-cf4e-4365-8240-4e9d6d4e9272 div.sk-estimator {font-family: monospace;background-color: #f0f8ff;border: 1px dotted black;border-radius: 0.25em;box-sizing: border-box;margin-bottom: 0.5em;}#sk-9f040e2d-cf4e-4365-8240-4e9d6d4e9272 div.sk-estimator:hover {background-color: #d4ebff;}#sk-9f040e2d-cf4e-4365-8240-4e9d6d4e9272 div.sk-parallel-item::after {content: \"\";width: 100%;border-bottom: 1px solid gray;flex-grow: 1;}#sk-9f040e2d-cf4e-4365-8240-4e9d6d4e9272 div.sk-label:hover label.sk-toggleable__label {background-color: #d4ebff;}#sk-9f040e2d-cf4e-4365-8240-4e9d6d4e9272 div.sk-serial::before {content: \"\";position: absolute;border-left: 1px solid gray;box-sizing: border-box;top: 2em;bottom: 0;left: 50%;}#sk-9f040e2d-cf4e-4365-8240-4e9d6d4e9272 div.sk-serial {display: flex;flex-direction: column;align-items: center;background-color: white;padding-right: 0.2em;padding-left: 0.2em;}#sk-9f040e2d-cf4e-4365-8240-4e9d6d4e9272 div.sk-item {z-index: 1;}#sk-9f040e2d-cf4e-4365-8240-4e9d6d4e9272 div.sk-parallel {display: flex;align-items: stretch;justify-content: center;background-color: white;}#sk-9f040e2d-cf4e-4365-8240-4e9d6d4e9272 div.sk-parallel::before {content: \"\";position: absolute;border-left: 1px solid gray;box-sizing: border-box;top: 2em;bottom: 0;left: 50%;}#sk-9f040e2d-cf4e-4365-8240-4e9d6d4e9272 div.sk-parallel-item {display: flex;flex-direction: column;position: relative;background-color: white;}#sk-9f040e2d-cf4e-4365-8240-4e9d6d4e9272 div.sk-parallel-item:first-child::after {align-self: flex-end;width: 50%;}#sk-9f040e2d-cf4e-4365-8240-4e9d6d4e9272 div.sk-parallel-item:last-child::after {align-self: flex-start;width: 50%;}#sk-9f040e2d-cf4e-4365-8240-4e9d6d4e9272 div.sk-parallel-item:only-child::after {width: 0;}#sk-9f040e2d-cf4e-4365-8240-4e9d6d4e9272 div.sk-dashed-wrapped {border: 1px dashed gray;margin: 0 0.4em 0.5em 0.4em;box-sizing: border-box;padding-bottom: 0.4em;background-color: white;position: relative;}#sk-9f040e2d-cf4e-4365-8240-4e9d6d4e9272 div.sk-label label {font-family: monospace;font-weight: bold;background-color: white;display: inline-block;line-height: 1.2em;}#sk-9f040e2d-cf4e-4365-8240-4e9d6d4e9272 div.sk-label-container {position: relative;z-index: 2;text-align: center;}#sk-9f040e2d-cf4e-4365-8240-4e9d6d4e9272 div.sk-container {/* jupyter's `normalize.less` sets `[hidden] { display: none; }` but bootstrap.min.css set `[hidden] { display: none !important; }` so we also need the `!important` here to be able to override the default hidden behavior on the sphinx rendered scikit-learn.org. See: https://github.com/scikit-learn/scikit-learn/issues/21755 */display: inline-block !important;position: relative;}#sk-9f040e2d-cf4e-4365-8240-4e9d6d4e9272 div.sk-text-repr-fallback {display: none;}</style><div id=\"sk-9f040e2d-cf4e-4365-8240-4e9d6d4e9272\" class=\"sk-top-container\"><div class=\"sk-text-repr-fallback\"><pre>Pipeline(steps=[(&#x27;standardscaler&#x27;, StandardScaler()),\n",
       "                (&#x27;lasso&#x27;, Lasso(alpha=0.2, max_iter=10000))])</pre><b>Please rerun this cell to show the HTML repr or trust the notebook.</b></div><div class=\"sk-container\" hidden><div class=\"sk-item sk-dashed-wrapped\"><div class=\"sk-label-container\"><div class=\"sk-label sk-toggleable\"><input class=\"sk-toggleable__control sk-hidden--visually\" id=\"7b7c43b4-a518-482f-a913-04c7e763acc8\" type=\"checkbox\" ><label for=\"7b7c43b4-a518-482f-a913-04c7e763acc8\" class=\"sk-toggleable__label sk-toggleable__label-arrow\">Pipeline</label><div class=\"sk-toggleable__content\"><pre>Pipeline(steps=[(&#x27;standardscaler&#x27;, StandardScaler()),\n",
       "                (&#x27;lasso&#x27;, Lasso(alpha=0.2, max_iter=10000))])</pre></div></div></div><div class=\"sk-serial\"><div class=\"sk-item\"><div class=\"sk-estimator sk-toggleable\"><input class=\"sk-toggleable__control sk-hidden--visually\" id=\"dbdb3f76-8848-49ec-a583-b6a382043be7\" type=\"checkbox\" ><label for=\"dbdb3f76-8848-49ec-a583-b6a382043be7\" class=\"sk-toggleable__label sk-toggleable__label-arrow\">StandardScaler</label><div class=\"sk-toggleable__content\"><pre>StandardScaler()</pre></div></div></div><div class=\"sk-item\"><div class=\"sk-estimator sk-toggleable\"><input class=\"sk-toggleable__control sk-hidden--visually\" id=\"4da5a395-fbd1-43bf-8ceb-a2b7b0e9860b\" type=\"checkbox\" ><label for=\"4da5a395-fbd1-43bf-8ceb-a2b7b0e9860b\" class=\"sk-toggleable__label sk-toggleable__label-arrow\">Lasso</label><div class=\"sk-toggleable__content\"><pre>Lasso(alpha=0.2, max_iter=10000)</pre></div></div></div></div></div></div></div>"
      ],
      "text/plain": [
       "Pipeline(steps=[('standardscaler', StandardScaler()),\n",
       "                ('lasso', Lasso(alpha=0.2, max_iter=10000))])"
      ]
     },
     "execution_count": 53,
     "metadata": {},
     "output_type": "execute_result"
    }
   ],
   "source": [
    "# Fit pipe\n",
    "pipe.fit(X_train, y_train)"
   ]
  },
  {
   "cell_type": "markdown",
   "id": "cd2cbcd6-42c0-4318-8c62-93ba68ca74fe",
   "metadata": {},
   "source": [
    " "
   ]
  },
  {
   "cell_type": "code",
   "execution_count": 54,
   "id": "62241772-8902-428d-ac38-9578b5ff61ff",
   "metadata": {},
   "outputs": [
    {
     "data": {
      "text/plain": [
       "(0.925852450386256, 0.913048493837936)"
      ]
     },
     "execution_count": 54,
     "metadata": {},
     "output_type": "execute_result"
    }
   ],
   "source": [
    "# Evaluate - Return R2 score for model\n",
    "pipe.score(X_train, y_train), pipe.score(X_val, y_val)"
   ]
  },
  {
   "cell_type": "code",
   "execution_count": 55,
   "id": "f4095e3b-c492-4289-af3b-76b5f01ef56f",
   "metadata": {
    "tags": []
   },
   "outputs": [
    {
     "data": {
      "text/plain": [
       "0.9028946357287928"
      ]
     },
     "execution_count": 55,
     "metadata": {},
     "output_type": "execute_result"
    }
   ],
   "source": [
    "cross_val_score(pipe, X_train, y_train, cv=5).mean()"
   ]
  },
  {
   "cell_type": "markdown",
   "id": "ad810b69-6540-4bd3-af67-0d2b0fa19a82",
   "metadata": {},
   "source": [
    " "
   ]
  },
  {
   "cell_type": "markdown",
   "id": "dbeeba99-8c03-4249-823d-3ffb0b5578b9",
   "metadata": {},
   "source": [
    "I plotted the top 20 feature importances from my Lasso regression:"
   ]
  },
  {
   "cell_type": "code",
   "execution_count": 56,
   "id": "9da15457-d3f1-4ace-93cb-30ab8d0bb18c",
   "metadata": {},
   "outputs": [
    {
     "data": {
      "image/png": "[encoded data removed]",
      "text/plain": [
       "<Figure size 576x396 with 1 Axes>"
      ]
     },
     "metadata": {},
     "output_type": "display_data"
    }
   ],
   "source": [
    "from yellowbrick.model_selection import FeatureImportances\n",
    "viz = FeatureImportances(pipe['lasso'], relative=True, topn=20, colormap='ocean');\n",
    "viz.fit(X, y);\n",
    "viz.show();"
   ]
  },
  {
   "cell_type": "markdown",
   "id": "b8f7c67c-8bb6-4ac9-b880-57ddaf594b11",
   "metadata": {},
   "source": [
    " "
   ]
  },
  {
   "cell_type": "code",
   "execution_count": 57,
   "id": "251dc448-a55c-45c5-87ab-84ed7bdf09d5",
   "metadata": {
    "scrolled": true,
    "tags": []
   },
   "outputs": [
    {
     "data": {
      "text/html": [
       "<div>\n",
       "<style scoped>\n",
       "    .dataframe tbody tr th:only-of-type {\n",
       "        vertical-align: middle;\n",
       "    }\n",
       "\n",
       "    .dataframe tbody tr th {\n",
       "        vertical-align: top;\n",
       "    }\n",
       "\n",
       "    .dataframe thead th {\n",
       "        text-align: right;\n",
       "    }\n",
       "</style>\n",
       "<table border=\"1\" class=\"dataframe\">\n",
       "  <thead>\n",
       "    <tr style=\"text-align: right;\">\n",
       "      <th></th>\n",
       "      <th>0</th>\n",
       "      <th>1</th>\n",
       "    </tr>\n",
       "  </thead>\n",
       "  <tbody>\n",
       "    <tr>\n",
       "      <th>60</th>\n",
       "      <td>total_sf</td>\n",
       "      <td>100.000000</td>\n",
       "    </tr>\n",
       "    <tr>\n",
       "      <th>59</th>\n",
       "      <td>lot_area</td>\n",
       "      <td>38.056232</td>\n",
       "    </tr>\n",
       "    <tr>\n",
       "      <th>106</th>\n",
       "      <td>bsmt_sf_GLQ</td>\n",
       "      <td>31.717612</td>\n",
       "    </tr>\n",
       "    <tr>\n",
       "      <th>62</th>\n",
       "      <td>overall_qual</td>\n",
       "      <td>27.722137</td>\n",
       "    </tr>\n",
       "    <tr>\n",
       "      <th>57</th>\n",
       "      <td>year_built</td>\n",
       "      <td>20.487258</td>\n",
       "    </tr>\n",
       "    <tr>\n",
       "      <th>72</th>\n",
       "      <td>garage_qual</td>\n",
       "      <td>19.671496</td>\n",
       "    </tr>\n",
       "    <tr>\n",
       "      <th>84</th>\n",
       "      <td>mas_vnr_area</td>\n",
       "      <td>15.966423</td>\n",
       "    </tr>\n",
       "    <tr>\n",
       "      <th>64</th>\n",
       "      <td>exter_qual</td>\n",
       "      <td>15.316764</td>\n",
       "    </tr>\n",
       "    <tr>\n",
       "      <th>63</th>\n",
       "      <td>overall_cond</td>\n",
       "      <td>14.677598</td>\n",
       "    </tr>\n",
       "    <tr>\n",
       "      <th>74</th>\n",
       "      <td>bsmt_exposure</td>\n",
       "      <td>13.050632</td>\n",
       "    </tr>\n",
       "  </tbody>\n",
       "</table>\n",
       "</div>"
      ],
      "text/plain": [
       "                 0           1\n",
       "60        total_sf  100.000000\n",
       "59        lot_area   38.056232\n",
       "106    bsmt_sf_GLQ   31.717612\n",
       "62    overall_qual   27.722137\n",
       "57      year_built   20.487258\n",
       "72     garage_qual   19.671496\n",
       "84    mas_vnr_area   15.966423\n",
       "64      exter_qual   15.316764\n",
       "63    overall_cond   14.677598\n",
       "74   bsmt_exposure   13.050632"
      ]
     },
     "execution_count": 57,
     "metadata": {},
     "output_type": "execute_result"
    }
   ],
   "source": [
    "coefs = pd.DataFrame(list(zip(X.columns, (pipe['lasso'].coef_))))\n",
    "coefs = coefs.sort_values(by=1, ascending=False)\n",
    "\n",
    "coefs.head(10)"
   ]
  },
  {
   "cell_type": "markdown",
   "id": "5bc137d6-1140-4e11-ac20-a90bbcfdfc45",
   "metadata": {},
   "source": [
    " "
   ]
  },
  {
   "cell_type": "markdown",
   "id": "dc0e9535-aa8b-47bb-83de-911910007599",
   "metadata": {},
   "source": [
    "My model has a lot of multicollinearity -- but it actually did pretty well in the kaggle competition like this. \n",
    "If I wanted to make my model more interpretable, or suitable for other purposes,  I would reduce multicollinearity by using VIF. "
   ]
  },
  {
   "cell_type": "markdown",
   "id": "be589fa6-9fb8-4759-8fee-13f1b9b0504e",
   "metadata": {},
   "source": [
    "Instead of using VIF, I cut back on features and hand picked features for my next model, so I could use polynomialfeatures and gridsearchCV efficiently."
   ]
  },
  {
   "cell_type": "markdown",
   "id": "a8c1f2b2-82c8-4760-8b79-10bb92c0be45",
   "metadata": {},
   "source": [
    " "
   ]
  },
  {
   "cell_type": "markdown",
   "id": "0276f91d-4d82-4b4c-948c-35b006f90601",
   "metadata": {},
   "source": [
    " "
   ]
  },
  {
   "cell_type": "markdown",
   "id": "cb7a1c63-0574-42c7-8ba2-84ae0115be7a",
   "metadata": {},
   "source": [
    " "
   ]
  },
  {
   "cell_type": "markdown",
   "id": "852906be-ef18-451e-bf78-7040e4bd0144",
   "metadata": {
    "tags": []
   },
   "source": [
    "## Modeling - Round 2"
   ]
  },
  {
   "cell_type": "markdown",
   "id": "6977059e-7dc9-442e-b043-bbd05643b771",
   "metadata": {},
   "source": [
    "For my next model, I simplified things so I could easily run comparisons between different regularization techniques, and use GridSearch as well to optimize parameters. The features I chose were a combination of the top coefficients from my ElasticNet model (above)."
   ]
  },
  {
   "cell_type": "markdown",
   "id": "85602fdc-bcb3-4751-a874-0e7feb9e6c67",
   "metadata": {},
   "source": [
    " "
   ]
  },
  {
   "cell_type": "code",
   "execution_count": 58,
   "id": "f00e5966-e518-471e-b6da-84e84d2e89ea",
   "metadata": {},
   "outputs": [],
   "source": [
    "features2 =  neighborhoods + ['year_built', 'year_remod/add', 'lot_area', 'total_sf', 'gr_liv_area', \n",
    "                'exter_qual', 'exter_cond', 'overall_cond', 'overall_qual', 'fence', \n",
    "                'kitchen_qual', 'kitchen_abvgr', 'garage_cars', 'garage_cond', '1st_flr_sf', '2nd_flr_sf',  \n",
    "                'bsmt_cond', 'bsmt_qual', 'mas_vnr_area', 'mo_sold', 'total_bsmt_sf', 'yr_sold', 'bsmt_exposure', \n",
    "                'fireplaces', 'has_pool', 'total_porch_sf', 'total_bath', 'land_slope']\n",
    "\n",
    "#Extra onehot cats: + housestyle + foundation + mas_vnr_type  + ut_elec_heat + bldgtypes "
   ]
  },
  {
   "cell_type": "code",
   "execution_count": 59,
   "id": "40acc6b8-7772-4072-b8f7-9252ad70c964",
   "metadata": {},
   "outputs": [],
   "source": [
    "X = train_ohe[features2]       \n",
    "y = train['saleprice'] "
   ]
  },
  {
   "cell_type": "code",
   "execution_count": 60,
   "id": "8e37b7c0-82db-4c3b-b841-9f8951a318b8",
   "metadata": {},
   "outputs": [],
   "source": [
    "# Train test split (Train validation split)\n",
    "X_train, X_val, y_train, y_val = train_test_split(X, y, random_state=404)"
   ]
  },
  {
   "cell_type": "markdown",
   "id": "d72199df-512e-403d-a3db-70ec10aaa6c2",
   "metadata": {},
   "source": [
    " "
   ]
  },
  {
   "cell_type": "markdown",
   "id": "d33ffcf5-407f-437c-8b76-b26e81b3665b",
   "metadata": {},
   "source": [
    "#### Pipeline"
   ]
  },
  {
   "cell_type": "code",
   "execution_count": 61,
   "id": "3742b049-ff12-43d5-80ad-f124ca4e9a25",
   "metadata": {},
   "outputs": [],
   "source": [
    "# Show pipe diagram\n",
    "from sklearn import set_config\n",
    "set_config(display='diagram')\n",
    "\n",
    "# Instantiate pipeline\n",
    "\n",
    "pipe_EN = make_pipeline(\n",
    "    PolynomialFeatures(),\n",
    "    StandardScaler(),\n",
    "    ElasticNet(max_iter=1000)\n",
    ")\n",
    "\n",
    "pipe_Ridge = make_pipeline(\n",
    "    PolynomialFeatures(),\n",
    "    StandardScaler(),\n",
    "    Ridge(max_iter=1000)\n",
    ")\n",
    "\n",
    "pipe_Lasso = make_pipeline(\n",
    "    PolynomialFeatures(),\n",
    "    StandardScaler(),\n",
    "    Lasso(max_iter=1000)\n",
    ")"
   ]
  },
  {
   "cell_type": "markdown",
   "id": "b971266f-dc9f-4ed0-b454-ad7127e4669e",
   "metadata": {},
   "source": [
    " "
   ]
  },
  {
   "cell_type": "code",
   "execution_count": 62,
   "id": "dcfacfc6-2444-4a53-952e-0647ad9bbfb0",
   "metadata": {},
   "outputs": [
    {
     "data": {
      "text/plain": [
       "{'polynomialfeatures': PolynomialFeatures(),\n",
       " 'standardscaler': StandardScaler(),\n",
       " 'elasticnet': ElasticNet()}"
      ]
     },
     "execution_count": 62,
     "metadata": {},
     "output_type": "execute_result"
    }
   ],
   "source": [
    "pipe_EN.named_steps"
   ]
  },
  {
   "cell_type": "markdown",
   "id": "2af56ff0-2013-495d-96bc-687d5f153c9e",
   "metadata": {},
   "source": [
    " "
   ]
  },
  {
   "cell_type": "code",
   "execution_count": 63,
   "id": "3102c61d-451b-4c2e-9646-ce90c9920001",
   "metadata": {},
   "outputs": [
    {
     "data": {
      "text/html": [
       "<style>#sk-6304616b-8da9-4911-a705-8f19e9abc1fb {color: black;background-color: white;}#sk-6304616b-8da9-4911-a705-8f19e9abc1fb pre{padding: 0;}#sk-6304616b-8da9-4911-a705-8f19e9abc1fb div.sk-toggleable {background-color: white;}#sk-6304616b-8da9-4911-a705-8f19e9abc1fb label.sk-toggleable__label {cursor: pointer;display: block;width: 100%;margin-bottom: 0;padding: 0.3em;box-sizing: border-box;text-align: center;}#sk-6304616b-8da9-4911-a705-8f19e9abc1fb label.sk-toggleable__label-arrow:before {content: \"▸\";float: left;margin-right: 0.25em;color: #696969;}#sk-6304616b-8da9-4911-a705-8f19e9abc1fb label.sk-toggleable__label-arrow:hover:before {color: black;}#sk-6304616b-8da9-4911-a705-8f19e9abc1fb div.sk-estimator:hover label.sk-toggleable__label-arrow:before {color: black;}#sk-6304616b-8da9-4911-a705-8f19e9abc1fb div.sk-toggleable__content {max-height: 0;max-width: 0;overflow: hidden;text-align: left;background-color: #f0f8ff;}#sk-6304616b-8da9-4911-a705-8f19e9abc1fb div.sk-toggleable__content pre {margin: 0.2em;color: black;border-radius: 0.25em;background-color: #f0f8ff;}#sk-6304616b-8da9-4911-a705-8f19e9abc1fb input.sk-toggleable__control:checked~div.sk-toggleable__content {max-height: 200px;max-width: 100%;overflow: auto;}#sk-6304616b-8da9-4911-a705-8f19e9abc1fb input.sk-toggleable__control:checked~label.sk-toggleable__label-arrow:before {content: \"▾\";}#sk-6304616b-8da9-4911-a705-8f19e9abc1fb div.sk-estimator input.sk-toggleable__control:checked~label.sk-toggleable__label {background-color: #d4ebff;}#sk-6304616b-8da9-4911-a705-8f19e9abc1fb div.sk-label input.sk-toggleable__control:checked~label.sk-toggleable__label {background-color: #d4ebff;}#sk-6304616b-8da9-4911-a705-8f19e9abc1fb input.sk-hidden--visually {border: 0;clip: rect(1px 1px 1px 1px);clip: rect(1px, 1px, 1px, 1px);height: 1px;margin: -1px;overflow: hidden;padding: 0;position: absolute;width: 1px;}#sk-6304616b-8da9-4911-a705-8f19e9abc1fb div.sk-estimator {font-family: monospace;background-color: #f0f8ff;border: 1px dotted black;border-radius: 0.25em;box-sizing: border-box;margin-bottom: 0.5em;}#sk-6304616b-8da9-4911-a705-8f19e9abc1fb div.sk-estimator:hover {background-color: #d4ebff;}#sk-6304616b-8da9-4911-a705-8f19e9abc1fb div.sk-parallel-item::after {content: \"\";width: 100%;border-bottom: 1px solid gray;flex-grow: 1;}#sk-6304616b-8da9-4911-a705-8f19e9abc1fb div.sk-label:hover label.sk-toggleable__label {background-color: #d4ebff;}#sk-6304616b-8da9-4911-a705-8f19e9abc1fb div.sk-serial::before {content: \"\";position: absolute;border-left: 1px solid gray;box-sizing: border-box;top: 2em;bottom: 0;left: 50%;}#sk-6304616b-8da9-4911-a705-8f19e9abc1fb div.sk-serial {display: flex;flex-direction: column;align-items: center;background-color: white;padding-right: 0.2em;padding-left: 0.2em;}#sk-6304616b-8da9-4911-a705-8f19e9abc1fb div.sk-item {z-index: 1;}#sk-6304616b-8da9-4911-a705-8f19e9abc1fb div.sk-parallel {display: flex;align-items: stretch;justify-content: center;background-color: white;}#sk-6304616b-8da9-4911-a705-8f19e9abc1fb div.sk-parallel::before {content: \"\";position: absolute;border-left: 1px solid gray;box-sizing: border-box;top: 2em;bottom: 0;left: 50%;}#sk-6304616b-8da9-4911-a705-8f19e9abc1fb div.sk-parallel-item {display: flex;flex-direction: column;position: relative;background-color: white;}#sk-6304616b-8da9-4911-a705-8f19e9abc1fb div.sk-parallel-item:first-child::after {align-self: flex-end;width: 50%;}#sk-6304616b-8da9-4911-a705-8f19e9abc1fb div.sk-parallel-item:last-child::after {align-self: flex-start;width: 50%;}#sk-6304616b-8da9-4911-a705-8f19e9abc1fb div.sk-parallel-item:only-child::after {width: 0;}#sk-6304616b-8da9-4911-a705-8f19e9abc1fb div.sk-dashed-wrapped {border: 1px dashed gray;margin: 0 0.4em 0.5em 0.4em;box-sizing: border-box;padding-bottom: 0.4em;background-color: white;position: relative;}#sk-6304616b-8da9-4911-a705-8f19e9abc1fb div.sk-label label {font-family: monospace;font-weight: bold;background-color: white;display: inline-block;line-height: 1.2em;}#sk-6304616b-8da9-4911-a705-8f19e9abc1fb div.sk-label-container {position: relative;z-index: 2;text-align: center;}#sk-6304616b-8da9-4911-a705-8f19e9abc1fb div.sk-container {/* jupyter's `normalize.less` sets `[hidden] { display: none; }` but bootstrap.min.css set `[hidden] { display: none !important; }` so we also need the `!important` here to be able to override the default hidden behavior on the sphinx rendered scikit-learn.org. See: https://github.com/scikit-learn/scikit-learn/issues/21755 */display: inline-block !important;position: relative;}#sk-6304616b-8da9-4911-a705-8f19e9abc1fb div.sk-text-repr-fallback {display: none;}</style><div id=\"sk-6304616b-8da9-4911-a705-8f19e9abc1fb\" class=\"sk-top-container\"><div class=\"sk-text-repr-fallback\"><pre>Pipeline(steps=[(&#x27;polynomialfeatures&#x27;, PolynomialFeatures()),\n",
       "                (&#x27;standardscaler&#x27;, StandardScaler()),\n",
       "                (&#x27;elasticnet&#x27;, ElasticNet())])</pre><b>Please rerun this cell to show the HTML repr or trust the notebook.</b></div><div class=\"sk-container\" hidden><div class=\"sk-item sk-dashed-wrapped\"><div class=\"sk-label-container\"><div class=\"sk-label sk-toggleable\"><input class=\"sk-toggleable__control sk-hidden--visually\" id=\"cec4a231-a30d-4e2b-be3b-995afd919e74\" type=\"checkbox\" ><label for=\"cec4a231-a30d-4e2b-be3b-995afd919e74\" class=\"sk-toggleable__label sk-toggleable__label-arrow\">Pipeline</label><div class=\"sk-toggleable__content\"><pre>Pipeline(steps=[(&#x27;polynomialfeatures&#x27;, PolynomialFeatures()),\n",
       "                (&#x27;standardscaler&#x27;, StandardScaler()),\n",
       "                (&#x27;elasticnet&#x27;, ElasticNet())])</pre></div></div></div><div class=\"sk-serial\"><div class=\"sk-item\"><div class=\"sk-estimator sk-toggleable\"><input class=\"sk-toggleable__control sk-hidden--visually\" id=\"16e97e86-a08c-481e-a083-ac62c63d3dce\" type=\"checkbox\" ><label for=\"16e97e86-a08c-481e-a083-ac62c63d3dce\" class=\"sk-toggleable__label sk-toggleable__label-arrow\">PolynomialFeatures</label><div class=\"sk-toggleable__content\"><pre>PolynomialFeatures()</pre></div></div></div><div class=\"sk-item\"><div class=\"sk-estimator sk-toggleable\"><input class=\"sk-toggleable__control sk-hidden--visually\" id=\"aaeb8462-66c4-4e99-ac15-292e89939ea0\" type=\"checkbox\" ><label for=\"aaeb8462-66c4-4e99-ac15-292e89939ea0\" class=\"sk-toggleable__label sk-toggleable__label-arrow\">StandardScaler</label><div class=\"sk-toggleable__content\"><pre>StandardScaler()</pre></div></div></div><div class=\"sk-item\"><div class=\"sk-estimator sk-toggleable\"><input class=\"sk-toggleable__control sk-hidden--visually\" id=\"86e91be8-a116-4a3e-a0d6-dc8e1fb28395\" type=\"checkbox\" ><label for=\"86e91be8-a116-4a3e-a0d6-dc8e1fb28395\" class=\"sk-toggleable__label sk-toggleable__label-arrow\">ElasticNet</label><div class=\"sk-toggleable__content\"><pre>ElasticNet()</pre></div></div></div></div></div></div></div>"
      ],
      "text/plain": [
       "Pipeline(steps=[('polynomialfeatures', PolynomialFeatures()),\n",
       "                ('standardscaler', StandardScaler()),\n",
       "                ('elasticnet', ElasticNet())])"
      ]
     },
     "execution_count": 63,
     "metadata": {},
     "output_type": "execute_result"
    }
   ],
   "source": [
    "# Fit pipe\n",
    "pipe_EN.fit(X_train, y_train)"
   ]
  },
  {
   "cell_type": "markdown",
   "id": "3f2bd7f2-990d-4b9f-b19e-1b22e05213e2",
   "metadata": {},
   "source": [
    " "
   ]
  },
  {
   "cell_type": "code",
   "execution_count": 64,
   "id": "4fb2ec97-a95f-46b2-a948-7ec5f1192624",
   "metadata": {},
   "outputs": [
    {
     "data": {
      "text/plain": [
       "(0.938590498204326, 0.9175059491346593)"
      ]
     },
     "execution_count": 64,
     "metadata": {},
     "output_type": "execute_result"
    }
   ],
   "source": [
    "pipe_EN.score(X_train, y_train), pipe_EN.score(X_val, y_val)\n"
   ]
  },
  {
   "cell_type": "markdown",
   "id": "ce6b4b5c-5444-4c6f-873e-e4951730d00f",
   "metadata": {},
   "source": [
    " "
   ]
  },
  {
   "cell_type": "markdown",
   "id": "ea26adb4-0380-4c2e-81dd-7016a9aa8773",
   "metadata": {},
   "source": [
    "Both scores went up from the previous model."
   ]
  },
  {
   "cell_type": "markdown",
   "id": "8ac56ceb-2e50-4507-96cb-0a3d1120772b",
   "metadata": {},
   "source": [
    " "
   ]
  },
  {
   "cell_type": "code",
   "execution_count": 65,
   "id": "e44b5319-5843-4343-b08c-79b8c2f9e2e3",
   "metadata": {},
   "outputs": [
    {
     "data": {
      "text/plain": [
       "0.9147927409557838"
      ]
     },
     "execution_count": 65,
     "metadata": {},
     "output_type": "execute_result"
    }
   ],
   "source": [
    "cross_val_score(pipe_EN, X_train, y_train, cv=5).mean()"
   ]
  },
  {
   "cell_type": "markdown",
   "id": "a5dd9660-db35-458d-853d-972b759dbc51",
   "metadata": {},
   "source": [
    " "
   ]
  },
  {
   "cell_type": "markdown",
   "id": "f8d89f92-7e39-43fb-a4cc-9f889f0667b5",
   "metadata": {},
   "source": [
    " "
   ]
  },
  {
   "cell_type": "markdown",
   "id": "e922c3ef-7b8f-4eab-bbc3-8704f11db1ed",
   "metadata": {},
   "source": [
    "## Evaluating Models"
   ]
  },
  {
   "cell_type": "markdown",
   "id": "ae534e10-e540-43f0-9396-b8ab65e056b3",
   "metadata": {},
   "source": [
    "My new cross-val score is  1 point higher than my previous model, and this model runs much faster and still seems to capture the most important features. \n",
    "Next I built a chart to show the difference between ElasticNet, Ridge, and Lasso Regression along with their various performance metrics."
   ]
  },
  {
   "cell_type": "markdown",
   "id": "43075653-d9a1-428a-925c-4f756ddc0033",
   "metadata": {},
   "source": [
    " "
   ]
  },
  {
   "cell_type": "code",
   "execution_count": 66,
   "id": "8ae98f25-36b1-4839-9258-2ca7aede575a",
   "metadata": {},
   "outputs": [],
   "source": [
    "from sklearn import metrics\n",
    "\n",
    "pipe_EN.fit(X_train, y_train)\n",
    "pipe_Ridge.fit(X_train, y_train)\n",
    "pipe_Lasso.fit(X_train, y_train)\n",
    "\n",
    "preds1 = pipe_EN.predict(X)\n",
    "resids1 = y-preds1\n",
    "preds2 = pipe_Ridge.predict(X)\n",
    "resids2 = y-preds2\n",
    "preds3 = pipe_Lasso.predict(X)\n",
    "resids3 = y-preds3\n",
    "\n",
    "df = pd.DataFrame({'Estimator' : [ 'ElasticNet', 'Ridge', 'Lasso' ], \n",
    "        'Train score': [ pipe_EN.score(X_train, y_train), pipe_Ridge.score(X_train, y_train), pipe_Lasso.score(X_train, y_train) ], \n",
    "        'Val score' : [ pipe_EN.score(X_val, y_val), pipe_Ridge.score(X_val, y_val), pipe_Lasso.score(X_val, y_val) ], \n",
    "        'Cross-val Score' : [ cross_val_score(pipe_EN, X_train, y_train, cv=5).mean(), \n",
    "                            cross_val_score(pipe_Ridge, X_train, y_train, cv=5).mean(), \n",
    "                            cross_val_score(pipe_Lasso, X_train, y_train, cv=5).mean() ],\n",
    "        'MAE': [ abs(resids1).mean(), abs(resids2).mean(), abs(resids3).mean() ],\n",
    "        'SSE/RSS': [ sum(resids1**2), sum(resids2**2), sum(resids3**2) ],\n",
    "        'MSE': [metrics.mean_squared_error(y, preds1), metrics.mean_squared_error(y, preds2), metrics.mean_squared_error(y, preds3)]\n",
    "                })\n",
    "\n",
    "df['RMSE']=(df['MSE'])**0.5"
   ]
  },
  {
   "cell_type": "markdown",
   "id": "faa58924-4589-4991-a452-0a709a85442b",
   "metadata": {},
   "source": [
    " "
   ]
  },
  {
   "cell_type": "markdown",
   "id": "9660272c-567b-48bf-a8eb-3b66ff07ba4a",
   "metadata": {},
   "source": [
    "#### ElasticNet vs Ridge vs Lasso."
   ]
  },
  {
   "cell_type": "code",
   "execution_count": 67,
   "id": "8574f1b1-24c7-4362-b1c3-777cfab06c28",
   "metadata": {},
   "outputs": [
    {
     "data": {
      "text/html": [
       "<div>\n",
       "<style scoped>\n",
       "    .dataframe tbody tr th:only-of-type {\n",
       "        vertical-align: middle;\n",
       "    }\n",
       "\n",
       "    .dataframe tbody tr th {\n",
       "        vertical-align: top;\n",
       "    }\n",
       "\n",
       "    .dataframe thead th {\n",
       "        text-align: right;\n",
       "    }\n",
       "</style>\n",
       "<table border=\"1\" class=\"dataframe\">\n",
       "  <thead>\n",
       "    <tr style=\"text-align: right;\">\n",
       "      <th></th>\n",
       "      <th>Estimator</th>\n",
       "      <th>Train score</th>\n",
       "      <th>Val score</th>\n",
       "      <th>Cross-val Score</th>\n",
       "      <th>MAE</th>\n",
       "      <th>SSE/RSS</th>\n",
       "      <th>MSE</th>\n",
       "      <th>RMSE</th>\n",
       "    </tr>\n",
       "  </thead>\n",
       "  <tbody>\n",
       "    <tr>\n",
       "      <th>0</th>\n",
       "      <td>ElasticNet</td>\n",
       "      <td>0.938590</td>\n",
       "      <td>0.917506</td>\n",
       "      <td>0.914793</td>\n",
       "      <td>14269.464730</td>\n",
       "      <td>8.576552e+11</td>\n",
       "      <td>4.189815e+08</td>\n",
       "      <td>20469.038418</td>\n",
       "    </tr>\n",
       "    <tr>\n",
       "      <th>1</th>\n",
       "      <td>Ridge</td>\n",
       "      <td>0.972190</td>\n",
       "      <td>0.804625</td>\n",
       "      <td>0.853775</td>\n",
       "      <td>11939.412196</td>\n",
       "      <td>9.019150e+11</td>\n",
       "      <td>4.406033e+08</td>\n",
       "      <td>20990.552681</td>\n",
       "    </tr>\n",
       "    <tr>\n",
       "      <th>2</th>\n",
       "      <td>Lasso</td>\n",
       "      <td>0.971787</td>\n",
       "      <td>0.813333</td>\n",
       "      <td>0.810323</td>\n",
       "      <td>12289.721722</td>\n",
       "      <td>8.774848e+11</td>\n",
       "      <td>4.286687e+08</td>\n",
       "      <td>20704.315767</td>\n",
       "    </tr>\n",
       "  </tbody>\n",
       "</table>\n",
       "</div>"
      ],
      "text/plain": [
       "    Estimator  Train score  Val score  Cross-val Score           MAE  \\\n",
       "0  ElasticNet     0.938590   0.917506         0.914793  14269.464730   \n",
       "1       Ridge     0.972190   0.804625         0.853775  11939.412196   \n",
       "2       Lasso     0.971787   0.813333         0.810323  12289.721722   \n",
       "\n",
       "        SSE/RSS           MSE          RMSE  \n",
       "0  8.576552e+11  4.189815e+08  20469.038418  \n",
       "1  9.019150e+11  4.406033e+08  20990.552681  \n",
       "2  8.774848e+11  4.286687e+08  20704.315767  "
      ]
     },
     "execution_count": 67,
     "metadata": {},
     "output_type": "execute_result"
    }
   ],
   "source": [
    "df"
   ]
  },
  {
   "cell_type": "markdown",
   "id": "39445eb0-f871-4e63-a025-31afde54738f",
   "metadata": {},
   "source": [
    " "
   ]
  },
  {
   "cell_type": "markdown",
   "id": "bfd9d252-2b80-4dc6-8425-3123cc6935b1",
   "metadata": {},
   "source": [
    " "
   ]
  },
  {
   "cell_type": "markdown",
   "id": "db633cf6-7b01-4410-9b49-672dc2356626",
   "metadata": {},
   "source": [
    "#### Plot of residuals for ElasticNet model, Ridge model, and Lasso model"
   ]
  },
  {
   "cell_type": "code",
   "execution_count": 68,
   "id": "7bd3a30b-e033-4137-8988-3a51cedc0a2a",
   "metadata": {},
   "outputs": [
    {
     "name": "stderr",
     "output_type": "stream",
     "text": [
      "/usr/local/Cellar/jupyterlab/3.3.0/libexec/lib/python3.9/site-packages/sklearn/base.py:450: UserWarning: X does not have valid feature names, but PolynomialFeatures was fitted with feature names\n",
      "  warnings.warn(\n"
     ]
    },
    {
     "data": {
      "image/png": "[encoded data removed]",
      "text/plain": [
       "<Figure size 576x396 with 2 Axes>"
      ]
     },
     "metadata": {},
     "output_type": "display_data"
    }
   ],
   "source": [
    "from yellowbrick.regressor import ResidualsPlot\n",
    "\n",
    "visualizer = ResidualsPlot(pipe_EN, hist=False, qqplot=True);\n",
    "visualizer.fit(X_train, y_train);\n",
    "visualizer.score(X_val, y_val);\n",
    "visualizer.show();"
   ]
  },
  {
   "cell_type": "markdown",
   "id": "90393b8a-65f9-46cc-9123-aa7e4322f941",
   "metadata": {},
   "source": [
    " "
   ]
  },
  {
   "cell_type": "markdown",
   "id": "fa13a35e-347d-4ba2-ae50-fe3bc9f78485",
   "metadata": {},
   "source": [
    " "
   ]
  },
  {
   "cell_type": "markdown",
   "id": "d02ec320-ec0b-4757-81bb-02f49c16fa05",
   "metadata": {},
   "source": [
    " "
   ]
  },
  {
   "cell_type": "code",
   "execution_count": 69,
   "id": "423eb0ce-8761-4ba9-82ca-9408bc1d4d35",
   "metadata": {},
   "outputs": [
    {
     "name": "stderr",
     "output_type": "stream",
     "text": [
      "/usr/local/Cellar/jupyterlab/3.3.0/libexec/lib/python3.9/site-packages/sklearn/base.py:450: UserWarning: X does not have valid feature names, but PolynomialFeatures was fitted with feature names\n",
      "  warnings.warn(\n"
     ]
    },
    {
     "data": {
      "image/png": "[encoded data removed]",
      "text/plain": [
       "<Figure size 576x396 with 2 Axes>"
      ]
     },
     "metadata": {},
     "output_type": "display_data"
    }
   ],
   "source": [
    "visualizer = ResidualsPlot(pipe_Ridge, hist=False, qqplot=True);\n",
    "visualizer.fit(X_train, y_train);\n",
    "visualizer.score(X_val, y_val);\n",
    "visualizer.show(); "
   ]
  },
  {
   "cell_type": "markdown",
   "id": "6d0d1156-800b-491c-bb8c-e796ae65c13d",
   "metadata": {},
   "source": [
    " "
   ]
  },
  {
   "cell_type": "markdown",
   "id": "846bac04-e81e-4ca9-82d3-5ada1ee2add3",
   "metadata": {},
   "source": [
    " "
   ]
  },
  {
   "cell_type": "markdown",
   "id": "4056d410-2b5d-43e2-bf57-5750fdaabe38",
   "metadata": {},
   "source": [
    " "
   ]
  },
  {
   "cell_type": "code",
   "execution_count": 72,
   "id": "cfa39e92-64ed-4c03-b084-f07f6a1717b3",
   "metadata": {},
   "outputs": [
    {
     "name": "stderr",
     "output_type": "stream",
     "text": [
      "/usr/local/Cellar/jupyterlab/3.3.0/libexec/lib/python3.9/site-packages/sklearn/base.py:450: UserWarning: X does not have valid feature names, but PolynomialFeatures was fitted with feature names\n",
      "  warnings.warn(\n"
     ]
    },
    {
     "data": {
      "image/png": "[encoded data removed]",
      "text/plain": [
       "<Figure size 576x396 with 2 Axes>"
      ]
     },
     "metadata": {},
     "output_type": "display_data"
    }
   ],
   "source": [
    "visualizer = ResidualsPlot(pipe_Lasso, hist=False, qqplot=True);\n",
    "visualizer.fit(X_train, y_train);\n",
    "visualizer.score(X_val, y_val);\n",
    "visualizer.show(); "
   ]
  },
  {
   "cell_type": "markdown",
   "id": "129302ed-2d26-4866-ab4b-49db30459b91",
   "metadata": {},
   "source": [
    " "
   ]
  },
  {
   "cell_type": "markdown",
   "id": "886878b0-af4b-43a0-8e5b-921aa18a7eeb",
   "metadata": {},
   "source": [
    " "
   ]
  },
  {
   "cell_type": "markdown",
   "id": "6687e6a7-2e63-4746-821e-79166bdc3a4e",
   "metadata": {},
   "source": [
    "\n"
   ]
  },
  {
   "cell_type": "markdown",
   "id": "79849f17-5cf9-443e-92c3-339763b9368d",
   "metadata": {},
   "source": [
    " "
   ]
  },
  {
   "cell_type": "markdown",
   "id": "7a4ea802-8902-4d61-8a74-d5351a65e8eb",
   "metadata": {
    "tags": []
   },
   "source": [
    "### Grid CV"
   ]
  },
  {
   "cell_type": "markdown",
   "id": "a84db535-82ee-4fb9-b6ad-59ffd78c89ea",
   "metadata": {},
   "source": [
    "Next I used GridSearch to fine tune my hyperparameters. The additional options I tried in GridSearch have been commented out below."
   ]
  },
  {
   "cell_type": "markdown",
   "id": "0b3563b6-fae8-4ed4-9080-83eeabc8b1d8",
   "metadata": {},
   "source": [
    " "
   ]
  },
  {
   "cell_type": "code",
   "execution_count": 81,
   "id": "ece8c17b-692f-4b72-bf02-270143c862c3",
   "metadata": {},
   "outputs": [],
   "source": [
    "# Hyperparameters dict\n",
    "\n",
    "pipe_params = {\n",
    "    'standardscaler__with_mean': [True],               #, False],\n",
    "    'standardscaler__with_std': [True],                #, False],\n",
    "    'elasticnet__alpha': [0.1],                        #, 0.05, 0.5, 0.75, 1],\n",
    "    'polynomialfeatures__include_bias': [True],        #, False],\n",
    "    'polynomialfeatures__interaction_only': [True],    #, False]\n",
    "}"
   ]
  },
  {
   "cell_type": "markdown",
   "id": "bb4c8695-cc2a-49fa-8b7f-d90e2f75fdd8",
   "metadata": {},
   "source": [
    " "
   ]
  },
  {
   "cell_type": "code",
   "execution_count": 75,
   "id": "79292eab-5a50-418b-b2e2-8bde388f23a0",
   "metadata": {},
   "outputs": [],
   "source": [
    "# Instantiate GridSearchCV\n",
    "# Pipeline can be passed into GridCV as an estimator.\n",
    "\n",
    "gs = GridSearchCV(pipe_EN, param_grid=pipe_params, verbose=1)"
   ]
  },
  {
   "cell_type": "markdown",
   "id": "111ea62d-3282-42bc-8ca7-5575c245775c",
   "metadata": {},
   "source": [
    " "
   ]
  },
  {
   "cell_type": "code",
   "execution_count": 76,
   "id": "95f801d9-b31c-435b-a160-8160a8f963e0",
   "metadata": {},
   "outputs": [
    {
     "name": "stdout",
     "output_type": "stream",
     "text": [
      "Fitting 5 folds for each of 2 candidates, totalling 10 fits\n"
     ]
    },
    {
     "data": {
      "text/html": [
       "<style>#sk-87f762b3-093c-408b-836d-d43f6af79e68 {color: black;background-color: white;}#sk-87f762b3-093c-408b-836d-d43f6af79e68 pre{padding: 0;}#sk-87f762b3-093c-408b-836d-d43f6af79e68 div.sk-toggleable {background-color: white;}#sk-87f762b3-093c-408b-836d-d43f6af79e68 label.sk-toggleable__label {cursor: pointer;display: block;width: 100%;margin-bottom: 0;padding: 0.3em;box-sizing: border-box;text-align: center;}#sk-87f762b3-093c-408b-836d-d43f6af79e68 label.sk-toggleable__label-arrow:before {content: \"▸\";float: left;margin-right: 0.25em;color: #696969;}#sk-87f762b3-093c-408b-836d-d43f6af79e68 label.sk-toggleable__label-arrow:hover:before {color: black;}#sk-87f762b3-093c-408b-836d-d43f6af79e68 div.sk-estimator:hover label.sk-toggleable__label-arrow:before {color: black;}#sk-87f762b3-093c-408b-836d-d43f6af79e68 div.sk-toggleable__content {max-height: 0;max-width: 0;overflow: hidden;text-align: left;background-color: #f0f8ff;}#sk-87f762b3-093c-408b-836d-d43f6af79e68 div.sk-toggleable__content pre {margin: 0.2em;color: black;border-radius: 0.25em;background-color: #f0f8ff;}#sk-87f762b3-093c-408b-836d-d43f6af79e68 input.sk-toggleable__control:checked~div.sk-toggleable__content {max-height: 200px;max-width: 100%;overflow: auto;}#sk-87f762b3-093c-408b-836d-d43f6af79e68 input.sk-toggleable__control:checked~label.sk-toggleable__label-arrow:before {content: \"▾\";}#sk-87f762b3-093c-408b-836d-d43f6af79e68 div.sk-estimator input.sk-toggleable__control:checked~label.sk-toggleable__label {background-color: #d4ebff;}#sk-87f762b3-093c-408b-836d-d43f6af79e68 div.sk-label input.sk-toggleable__control:checked~label.sk-toggleable__label {background-color: #d4ebff;}#sk-87f762b3-093c-408b-836d-d43f6af79e68 input.sk-hidden--visually {border: 0;clip: rect(1px 1px 1px 1px);clip: rect(1px, 1px, 1px, 1px);height: 1px;margin: -1px;overflow: hidden;padding: 0;position: absolute;width: 1px;}#sk-87f762b3-093c-408b-836d-d43f6af79e68 div.sk-estimator {font-family: monospace;background-color: #f0f8ff;border: 1px dotted black;border-radius: 0.25em;box-sizing: border-box;margin-bottom: 0.5em;}#sk-87f762b3-093c-408b-836d-d43f6af79e68 div.sk-estimator:hover {background-color: #d4ebff;}#sk-87f762b3-093c-408b-836d-d43f6af79e68 div.sk-parallel-item::after {content: \"\";width: 100%;border-bottom: 1px solid gray;flex-grow: 1;}#sk-87f762b3-093c-408b-836d-d43f6af79e68 div.sk-label:hover label.sk-toggleable__label {background-color: #d4ebff;}#sk-87f762b3-093c-408b-836d-d43f6af79e68 div.sk-serial::before {content: \"\";position: absolute;border-left: 1px solid gray;box-sizing: border-box;top: 2em;bottom: 0;left: 50%;}#sk-87f762b3-093c-408b-836d-d43f6af79e68 div.sk-serial {display: flex;flex-direction: column;align-items: center;background-color: white;padding-right: 0.2em;padding-left: 0.2em;}#sk-87f762b3-093c-408b-836d-d43f6af79e68 div.sk-item {z-index: 1;}#sk-87f762b3-093c-408b-836d-d43f6af79e68 div.sk-parallel {display: flex;align-items: stretch;justify-content: center;background-color: white;}#sk-87f762b3-093c-408b-836d-d43f6af79e68 div.sk-parallel::before {content: \"\";position: absolute;border-left: 1px solid gray;box-sizing: border-box;top: 2em;bottom: 0;left: 50%;}#sk-87f762b3-093c-408b-836d-d43f6af79e68 div.sk-parallel-item {display: flex;flex-direction: column;position: relative;background-color: white;}#sk-87f762b3-093c-408b-836d-d43f6af79e68 div.sk-parallel-item:first-child::after {align-self: flex-end;width: 50%;}#sk-87f762b3-093c-408b-836d-d43f6af79e68 div.sk-parallel-item:last-child::after {align-self: flex-start;width: 50%;}#sk-87f762b3-093c-408b-836d-d43f6af79e68 div.sk-parallel-item:only-child::after {width: 0;}#sk-87f762b3-093c-408b-836d-d43f6af79e68 div.sk-dashed-wrapped {border: 1px dashed gray;margin: 0 0.4em 0.5em 0.4em;box-sizing: border-box;padding-bottom: 0.4em;background-color: white;position: relative;}#sk-87f762b3-093c-408b-836d-d43f6af79e68 div.sk-label label {font-family: monospace;font-weight: bold;background-color: white;display: inline-block;line-height: 1.2em;}#sk-87f762b3-093c-408b-836d-d43f6af79e68 div.sk-label-container {position: relative;z-index: 2;text-align: center;}#sk-87f762b3-093c-408b-836d-d43f6af79e68 div.sk-container {/* jupyter's `normalize.less` sets `[hidden] { display: none; }` but bootstrap.min.css set `[hidden] { display: none !important; }` so we also need the `!important` here to be able to override the default hidden behavior on the sphinx rendered scikit-learn.org. See: https://github.com/scikit-learn/scikit-learn/issues/21755 */display: inline-block !important;position: relative;}#sk-87f762b3-093c-408b-836d-d43f6af79e68 div.sk-text-repr-fallback {display: none;}</style><div id=\"sk-87f762b3-093c-408b-836d-d43f6af79e68\" class=\"sk-top-container\"><div class=\"sk-text-repr-fallback\"><pre>GridSearchCV(estimator=Pipeline(steps=[(&#x27;polynomialfeatures&#x27;,\n",
       "                                        PolynomialFeatures()),\n",
       "                                       (&#x27;standardscaler&#x27;, StandardScaler()),\n",
       "                                       (&#x27;elasticnet&#x27;, ElasticNet())]),\n",
       "             param_grid={&#x27;elasticnet__alpha&#x27;: [0.1, 0.5],\n",
       "                         &#x27;polynomialfeatures__include_bias&#x27;: [True],\n",
       "                         &#x27;polynomialfeatures__interaction_only&#x27;: [True],\n",
       "                         &#x27;standardscaler__with_mean&#x27;: [True],\n",
       "                         &#x27;standardscaler__with_std&#x27;: [True]},\n",
       "             verbose=1)</pre><b>Please rerun this cell to show the HTML repr or trust the notebook.</b></div><div class=\"sk-container\" hidden><div class=\"sk-item sk-dashed-wrapped\"><div class=\"sk-label-container\"><div class=\"sk-label sk-toggleable\"><input class=\"sk-toggleable__control sk-hidden--visually\" id=\"2366de33-c6d2-48d9-a912-e7b0e9eb2b90\" type=\"checkbox\" ><label for=\"2366de33-c6d2-48d9-a912-e7b0e9eb2b90\" class=\"sk-toggleable__label sk-toggleable__label-arrow\">GridSearchCV</label><div class=\"sk-toggleable__content\"><pre>GridSearchCV(estimator=Pipeline(steps=[(&#x27;polynomialfeatures&#x27;,\n",
       "                                        PolynomialFeatures()),\n",
       "                                       (&#x27;standardscaler&#x27;, StandardScaler()),\n",
       "                                       (&#x27;elasticnet&#x27;, ElasticNet())]),\n",
       "             param_grid={&#x27;elasticnet__alpha&#x27;: [0.1, 0.5],\n",
       "                         &#x27;polynomialfeatures__include_bias&#x27;: [True],\n",
       "                         &#x27;polynomialfeatures__interaction_only&#x27;: [True],\n",
       "                         &#x27;standardscaler__with_mean&#x27;: [True],\n",
       "                         &#x27;standardscaler__with_std&#x27;: [True]},\n",
       "             verbose=1)</pre></div></div></div><div class=\"sk-parallel\"><div class=\"sk-parallel-item\"><div class=\"sk-item\"><div class=\"sk-serial\"><div class=\"sk-item\"><div class=\"sk-serial\"><div class=\"sk-item\"><div class=\"sk-estimator sk-toggleable\"><input class=\"sk-toggleable__control sk-hidden--visually\" id=\"521dccdd-35e2-46d1-b5e4-51d30713012c\" type=\"checkbox\" ><label for=\"521dccdd-35e2-46d1-b5e4-51d30713012c\" class=\"sk-toggleable__label sk-toggleable__label-arrow\">PolynomialFeatures</label><div class=\"sk-toggleable__content\"><pre>PolynomialFeatures()</pre></div></div></div><div class=\"sk-item\"><div class=\"sk-estimator sk-toggleable\"><input class=\"sk-toggleable__control sk-hidden--visually\" id=\"1ff067b0-4be2-42fc-97b0-9609205b930c\" type=\"checkbox\" ><label for=\"1ff067b0-4be2-42fc-97b0-9609205b930c\" class=\"sk-toggleable__label sk-toggleable__label-arrow\">StandardScaler</label><div class=\"sk-toggleable__content\"><pre>StandardScaler()</pre></div></div></div><div class=\"sk-item\"><div class=\"sk-estimator sk-toggleable\"><input class=\"sk-toggleable__control sk-hidden--visually\" id=\"a824fc89-2d0d-4f07-8c77-3a51a3d6813d\" type=\"checkbox\" ><label for=\"a824fc89-2d0d-4f07-8c77-3a51a3d6813d\" class=\"sk-toggleable__label sk-toggleable__label-arrow\">ElasticNet</label><div class=\"sk-toggleable__content\"><pre>ElasticNet()</pre></div></div></div></div></div></div></div></div></div></div></div></div>"
      ],
      "text/plain": [
       "GridSearchCV(estimator=Pipeline(steps=[('polynomialfeatures',\n",
       "                                        PolynomialFeatures()),\n",
       "                                       ('standardscaler', StandardScaler()),\n",
       "                                       ('elasticnet', ElasticNet())]),\n",
       "             param_grid={'elasticnet__alpha': [0.1, 0.5],\n",
       "                         'polynomialfeatures__include_bias': [True],\n",
       "                         'polynomialfeatures__interaction_only': [True],\n",
       "                         'standardscaler__with_mean': [True],\n",
       "                         'standardscaler__with_std': [True]},\n",
       "             verbose=1)"
      ]
     },
     "execution_count": 76,
     "metadata": {},
     "output_type": "execute_result"
    }
   ],
   "source": [
    "# Fit GridSearchCV to the data\n",
    "gs.fit(X_train, y_train)"
   ]
  },
  {
   "cell_type": "code",
   "execution_count": 77,
   "id": "7cbb46fb-373e-4b9b-8b3a-c588bf92fddb",
   "metadata": {},
   "outputs": [
    {
     "data": {
      "text/plain": [
       "0.92075736751991"
      ]
     },
     "execution_count": 77,
     "metadata": {},
     "output_type": "execute_result"
    }
   ],
   "source": [
    "gs.best_score_"
   ]
  },
  {
   "cell_type": "code",
   "execution_count": 78,
   "id": "9b931757-e62e-45b2-a9df-24ff574a33a3",
   "metadata": {},
   "outputs": [
    {
     "data": {
      "text/plain": [
       "0.9103345233163397"
      ]
     },
     "execution_count": 78,
     "metadata": {},
     "output_type": "execute_result"
    }
   ],
   "source": [
    "gs.score(X_val, y_val)"
   ]
  },
  {
   "cell_type": "code",
   "execution_count": 79,
   "id": "dd4f7b0c-98f8-4c1a-b5b0-685d453d997a",
   "metadata": {},
   "outputs": [
    {
     "data": {
      "text/plain": [
       "0.9573200154682109"
      ]
     },
     "execution_count": 79,
     "metadata": {},
     "output_type": "execute_result"
    }
   ],
   "source": [
    "gs.score(X_train, y_train)"
   ]
  },
  {
   "cell_type": "code",
   "execution_count": 80,
   "id": "67aa34e3-e5a3-49c8-bef7-83196a6ff260",
   "metadata": {},
   "outputs": [
    {
     "data": {
      "text/plain": [
       "{'elasticnet__alpha': 0.1,\n",
       " 'polynomialfeatures__include_bias': True,\n",
       " 'polynomialfeatures__interaction_only': True,\n",
       " 'standardscaler__with_mean': True,\n",
       " 'standardscaler__with_std': True}"
      ]
     },
     "execution_count": 80,
     "metadata": {},
     "output_type": "execute_result"
    }
   ],
   "source": [
    "gs.best_params_"
   ]
  },
  {
   "cell_type": "markdown",
   "id": "5932e48d-7d93-4304-bc09-8faeaf22bf58",
   "metadata": {},
   "source": [
    " \n",
    " "
   ]
  },
  {
   "cell_type": "markdown",
   "id": "bc799d65-71b1-4ac6-be3e-d061b21b3f9c",
   "metadata": {},
   "source": [
    "## Predictions & Vizualization"
   ]
  },
  {
   "cell_type": "code",
   "execution_count": 84,
   "id": "15172266-0d89-495e-8ce7-5a7bd97e3e38",
   "metadata": {},
   "outputs": [],
   "source": [
    "preds = gs.predict(X)"
   ]
  },
  {
   "cell_type": "code",
   "execution_count": 85,
   "id": "1ff1f8b9-a449-4d77-8823-abc5b9ccd012",
   "metadata": {},
   "outputs": [],
   "source": [
    "resids = y - preds"
   ]
  },
  {
   "cell_type": "markdown",
   "id": "9f8f90e3-2c08-486a-acba-f33193ff0117",
   "metadata": {},
   "source": [
    " \n",
    " "
   ]
  },
  {
   "cell_type": "code",
   "execution_count": 87,
   "id": "aa807a5a-8f32-4232-8b4c-aedf166f88bc",
   "metadata": {},
   "outputs": [
    {
     "data": {
      "image/png": "[encoded data removed]",
      "text/plain": [
       "<Figure size 576x396 with 1 Axes>"
      ]
     },
     "metadata": {},
     "output_type": "display_data"
    }
   ],
   "source": [
    "sns.residplot(x = preds,\n",
    "              y = resids,\n",
    "              lowess = True, #help visualize relationship\n",
    "              line_kws = {'color' : 'orange'})\\\n",
    "    .set(title = 'Residuals vs. fits plot',\n",
    "        xlabel = 'Predicted value',\n",
    "        ylabel = 'Residual value');"
   ]
  },
  {
   "cell_type": "markdown",
   "id": "95f4ecf4-6ea7-4840-8e6d-e6af55aabd20",
   "metadata": {},
   "source": [
    " \n",
    " "
   ]
  },
  {
   "cell_type": "markdown",
   "id": "edcd8d7c-d2bd-4f39-8353-7bb84695ae2e",
   "metadata": {},
   "source": [
    " \n",
    " "
   ]
  },
  {
   "cell_type": "code",
   "execution_count": 709,
   "id": "ec5fcd15-e68d-4fc4-a71f-cd03f9923f62",
   "metadata": {},
   "outputs": [
    {
     "data": {
      "text/plain": [
       "Text(0.5, 0, 'Sale Price')"
      ]
     },
     "execution_count": 709,
     "metadata": {},
     "output_type": "execute_result"
    },
    {
     "data": {
      "image/png": "[encoded data removed]",
      "text/plain": [
       "<Figure size 720x360 with 1 Axes>"
      ]
     },
     "metadata": {
      "needs_background": "light"
     },
     "output_type": "display_data"
    }
   ],
   "source": [
    "plt.figure(figsize=(10, 5))\n",
    "plt.hist(resids, bins=20, range=[-150000,150000]);\n",
    "plt.title('Histogram of Residuals')\n",
    "plt.xlabel('Sale Price')"
   ]
  },
  {
   "cell_type": "markdown",
   "id": "96578fb7-ac51-461f-a981-6d7e18636197",
   "metadata": {},
   "source": [
    " \n",
    " "
   ]
  },
  {
   "cell_type": "markdown",
   "id": "63f01288-80fa-4ac9-b8ca-dd63f2240853",
   "metadata": {},
   "source": [
    " \n",
    " "
   ]
  },
  {
   "cell_type": "code",
   "execution_count": 710,
   "id": "40fe8f27-d936-4382-b0bb-51023fc05639",
   "metadata": {},
   "outputs": [
    {
     "data": {
      "image/png": "[encoded data removed]",
      "text/plain": [
       "<Figure size 432x288 with 1 Axes>"
      ]
     },
     "metadata": {
      "needs_background": "light"
     },
     "output_type": "display_data"
    }
   ],
   "source": [
    "import statsmodels.api as sm\n",
    "from statsmodels.stats.outliers_influence import variance_inflation_factor\n",
    "\n",
    "sm.qqplot(resids, line = 'q')\n",
    "plt.title('Normal Q-Q plot');"
   ]
  },
  {
   "cell_type": "code",
   "execution_count": 88,
   "id": "8d8749db-0db6-453d-ad40-57d57eb0be52",
   "metadata": {},
   "outputs": [
    {
     "data": {
      "text/plain": [
       "701146405130.5425"
      ]
     },
     "execution_count": 88,
     "metadata": {},
     "output_type": "execute_result"
    }
   ],
   "source": [
    "rss = sum(resids**2)\n",
    "rss"
   ]
  },
  {
   "cell_type": "code",
   "execution_count": 89,
   "id": "3970867a-2ed2-4835-ba07-17f4dde2020a",
   "metadata": {},
   "outputs": [
    {
     "data": {
      "text/plain": [
       "342523891.12386054"
      ]
     },
     "execution_count": 89,
     "metadata": {},
     "output_type": "execute_result"
    }
   ],
   "source": [
    "MSE = rss / len(resids)\n",
    "MSE"
   ]
  },
  {
   "cell_type": "code",
   "execution_count": 90,
   "id": "7351fa6f-5a0a-41f1-ac7a-dc4d5dd52507",
   "metadata": {},
   "outputs": [
    {
     "data": {
      "text/plain": [
       "12700.9928305912"
      ]
     },
     "execution_count": 90,
     "metadata": {},
     "output_type": "execute_result"
    }
   ],
   "source": [
    "MAE = abs(resids).mean()\n",
    "MAE"
   ]
  },
  {
   "cell_type": "markdown",
   "id": "5e7ab263-a308-450e-93fd-3381823b4912",
   "metadata": {},
   "source": [
    " \n",
    " "
   ]
  },
  {
   "cell_type": "markdown",
   "id": "7c0bb738-2fbd-4c53-9c1b-748d14ca9b6a",
   "metadata": {},
   "source": [
    " \n",
    " "
   ]
  },
  {
   "cell_type": "markdown",
   "id": "c7189f82-151b-4cc9-bdc8-00766603f947",
   "metadata": {},
   "source": [
    "### Predict & Export data"
   ]
  },
  {
   "cell_type": "code",
   "execution_count": 827,
   "id": "4a3f198c-0713-4cd6-bcc7-d02ccb6561a6",
   "metadata": {},
   "outputs": [],
   "source": [
    "test['SalePrice'] = gs.predict(test_ohe[features2])\n",
    "\n",
    "\n",
    "test = test[['id', 'SalePrice']]\n",
    "# test.info()"
   ]
  },
  {
   "cell_type": "code",
   "execution_count": 828,
   "id": "b2808dbd-121c-4ece-a0c5-4e38cf0d30b5",
   "metadata": {},
   "outputs": [
    {
     "name": "stdout",
     "output_type": "stream",
     "text": [
      "<class 'pandas.core.frame.DataFrame'>\n",
      "RangeIndex: 878 entries, 0 to 877\n",
      "Data columns (total 2 columns):\n",
      " #   Column     Non-Null Count  Dtype  \n",
      "---  ------     --------------  -----  \n",
      " 0   id         878 non-null    int64  \n",
      " 1   SalePrice  878 non-null    float64\n",
      "dtypes: float64(1), int64(1)\n",
      "memory usage: 13.8 KB\n"
     ]
    }
   ],
   "source": [
    "test.info()"
   ]
  },
  {
   "cell_type": "code",
   "execution_count": 830,
   "id": "b80469c0-dcd9-43eb-bb7e-e9b0050b7b9a",
   "metadata": {},
   "outputs": [],
   "source": [
    "test.to_csv('../datasets/predictions4.csv', index=False)"
   ]
  }
 ],
 "metadata": {
  "kernelspec": {
   "display_name": "Python 3 (ipykernel)",
   "language": "python",
   "name": "python3"
  },
  "language_info": {
   "codemirror_mode": {
    "name": "ipython",
    "version": 3
   },
   "file_extension": ".py",
   "mimetype": "text/x-python",
   "name": "python",
   "nbconvert_exporter": "python",
   "pygments_lexer": "ipython3",
   "version": "3.9.10"
  }
 },
 "nbformat": 4,
 "nbformat_minor": 5
}
